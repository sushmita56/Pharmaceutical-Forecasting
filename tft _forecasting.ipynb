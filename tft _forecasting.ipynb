{
 "cells": [
  {
   "cell_type": "code",
   "execution_count": 52,
   "metadata": {},
   "outputs": [],
   "source": [
    "import numpy as np\n",
    "import pandas as pd\n",
    "import torch"
   ]
  },
  {
   "cell_type": "code",
   "execution_count": 2,
   "metadata": {},
   "outputs": [
    {
     "data": {
      "text/html": [
       "<div>\n",
       "<style scoped>\n",
       "    .dataframe tbody tr th:only-of-type {\n",
       "        vertical-align: middle;\n",
       "    }\n",
       "\n",
       "    .dataframe tbody tr th {\n",
       "        vertical-align: top;\n",
       "    }\n",
       "\n",
       "    .dataframe thead th {\n",
       "        text-align: right;\n",
       "    }\n",
       "</style>\n",
       "<table border=\"1\" class=\"dataframe\">\n",
       "  <thead>\n",
       "    <tr style=\"text-align: right;\">\n",
       "      <th></th>\n",
       "      <th>datum</th>\n",
       "      <th>M01AB</th>\n",
       "      <th>M01AE</th>\n",
       "      <th>N02BA</th>\n",
       "      <th>N02BE</th>\n",
       "      <th>N05B</th>\n",
       "      <th>N05C</th>\n",
       "      <th>R03</th>\n",
       "      <th>R06</th>\n",
       "      <th>Year</th>\n",
       "      <th>Month</th>\n",
       "      <th>Hour</th>\n",
       "      <th>Weekday Name</th>\n",
       "    </tr>\n",
       "  </thead>\n",
       "  <tbody>\n",
       "    <tr>\n",
       "      <th>0</th>\n",
       "      <td>2014-01-02</td>\n",
       "      <td>0.0</td>\n",
       "      <td>3.67</td>\n",
       "      <td>3.4</td>\n",
       "      <td>32.40</td>\n",
       "      <td>7.0</td>\n",
       "      <td>0.0</td>\n",
       "      <td>0.0</td>\n",
       "      <td>2.0</td>\n",
       "      <td>2014</td>\n",
       "      <td>1</td>\n",
       "      <td>248</td>\n",
       "      <td>Thursday</td>\n",
       "    </tr>\n",
       "    <tr>\n",
       "      <th>1</th>\n",
       "      <td>2014-01-03</td>\n",
       "      <td>8.0</td>\n",
       "      <td>4.00</td>\n",
       "      <td>4.4</td>\n",
       "      <td>50.60</td>\n",
       "      <td>16.0</td>\n",
       "      <td>0.0</td>\n",
       "      <td>20.0</td>\n",
       "      <td>4.0</td>\n",
       "      <td>2014</td>\n",
       "      <td>1</td>\n",
       "      <td>276</td>\n",
       "      <td>Friday</td>\n",
       "    </tr>\n",
       "    <tr>\n",
       "      <th>2</th>\n",
       "      <td>2014-01-04</td>\n",
       "      <td>2.0</td>\n",
       "      <td>1.00</td>\n",
       "      <td>6.5</td>\n",
       "      <td>61.85</td>\n",
       "      <td>10.0</td>\n",
       "      <td>0.0</td>\n",
       "      <td>9.0</td>\n",
       "      <td>1.0</td>\n",
       "      <td>2014</td>\n",
       "      <td>1</td>\n",
       "      <td>276</td>\n",
       "      <td>Saturday</td>\n",
       "    </tr>\n",
       "    <tr>\n",
       "      <th>3</th>\n",
       "      <td>2014-01-05</td>\n",
       "      <td>4.0</td>\n",
       "      <td>3.00</td>\n",
       "      <td>7.0</td>\n",
       "      <td>41.10</td>\n",
       "      <td>8.0</td>\n",
       "      <td>0.0</td>\n",
       "      <td>3.0</td>\n",
       "      <td>0.0</td>\n",
       "      <td>2014</td>\n",
       "      <td>1</td>\n",
       "      <td>276</td>\n",
       "      <td>Sunday</td>\n",
       "    </tr>\n",
       "    <tr>\n",
       "      <th>4</th>\n",
       "      <td>2014-01-06</td>\n",
       "      <td>5.0</td>\n",
       "      <td>1.00</td>\n",
       "      <td>4.5</td>\n",
       "      <td>21.70</td>\n",
       "      <td>16.0</td>\n",
       "      <td>2.0</td>\n",
       "      <td>6.0</td>\n",
       "      <td>2.0</td>\n",
       "      <td>2014</td>\n",
       "      <td>1</td>\n",
       "      <td>276</td>\n",
       "      <td>Monday</td>\n",
       "    </tr>\n",
       "  </tbody>\n",
       "</table>\n",
       "</div>"
      ],
      "text/plain": [
       "       datum  M01AB  M01AE  N02BA  N02BE  N05B  N05C   R03  R06  Year  Month  \\\n",
       "0 2014-01-02    0.0   3.67    3.4  32.40   7.0   0.0   0.0  2.0  2014      1   \n",
       "1 2014-01-03    8.0   4.00    4.4  50.60  16.0   0.0  20.0  4.0  2014      1   \n",
       "2 2014-01-04    2.0   1.00    6.5  61.85  10.0   0.0   9.0  1.0  2014      1   \n",
       "3 2014-01-05    4.0   3.00    7.0  41.10   8.0   0.0   3.0  0.0  2014      1   \n",
       "4 2014-01-06    5.0   1.00    4.5  21.70  16.0   2.0   6.0  2.0  2014      1   \n",
       "\n",
       "   Hour Weekday Name  \n",
       "0   248     Thursday  \n",
       "1   276       Friday  \n",
       "2   276     Saturday  \n",
       "3   276       Sunday  \n",
       "4   276       Monday  "
      ]
     },
     "execution_count": 2,
     "metadata": {},
     "output_type": "execute_result"
    }
   ],
   "source": [
    "df = pd.read_csv('dataset/salesdaily.csv', parse_dates=['datum'])\n",
    "df.head()"
   ]
  },
  {
   "cell_type": "code",
   "execution_count": 3,
   "metadata": {},
   "outputs": [
    {
     "data": {
      "text/plain": [
       "array([248, 276, 190])"
      ]
     },
     "execution_count": 3,
     "metadata": {},
     "output_type": "execute_result"
    }
   ],
   "source": [
    "df['Hour'].unique()"
   ]
  },
  {
   "cell_type": "code",
   "execution_count": 4,
   "metadata": {},
   "outputs": [],
   "source": [
    "df['Day'] = df['datum'].dt.day"
   ]
  },
  {
   "cell_type": "code",
   "execution_count": 5,
   "metadata": {},
   "outputs": [
    {
     "data": {
      "text/plain": [
       "Index(['datum', 'M01AB', 'M01AE', 'N02BA', 'N02BE', 'N05B', 'N05C', 'R03',\n",
       "       'R06', 'Year', 'Month', 'Hour', 'Weekday Name', 'Day'],\n",
       "      dtype='object')"
      ]
     },
     "execution_count": 5,
     "metadata": {},
     "output_type": "execute_result"
    }
   ],
   "source": [
    "df.columns"
   ]
  },
  {
   "cell_type": "code",
   "execution_count": 6,
   "metadata": {},
   "outputs": [],
   "source": [
    "# df.drop(columns='Hour', inplace=True)"
   ]
  },
  {
   "cell_type": "code",
   "execution_count": 7,
   "metadata": {},
   "outputs": [],
   "source": [
    "melted_df = pd.melt(df, id_vars=['datum', 'Year', 'Month', 'Weekday Name', 'Day', 'Hour'], \n",
    "                    var_name='drug', value_name='sales')"
   ]
  },
  {
   "cell_type": "code",
   "execution_count": 8,
   "metadata": {},
   "outputs": [],
   "source": [
    "melted_df.rename(columns={'datum':'DateTime'}, inplace=True)\n"
   ]
  },
  {
   "cell_type": "code",
   "execution_count": 9,
   "metadata": {},
   "outputs": [
    {
     "data": {
      "text/html": [
       "<div>\n",
       "<style scoped>\n",
       "    .dataframe tbody tr th:only-of-type {\n",
       "        vertical-align: middle;\n",
       "    }\n",
       "\n",
       "    .dataframe tbody tr th {\n",
       "        vertical-align: top;\n",
       "    }\n",
       "\n",
       "    .dataframe thead th {\n",
       "        text-align: right;\n",
       "    }\n",
       "</style>\n",
       "<table border=\"1\" class=\"dataframe\">\n",
       "  <thead>\n",
       "    <tr style=\"text-align: right;\">\n",
       "      <th></th>\n",
       "      <th>DateTime</th>\n",
       "      <th>Year</th>\n",
       "      <th>Month</th>\n",
       "      <th>Weekday Name</th>\n",
       "      <th>Day</th>\n",
       "      <th>Hour</th>\n",
       "      <th>drug</th>\n",
       "      <th>sales</th>\n",
       "    </tr>\n",
       "  </thead>\n",
       "  <tbody>\n",
       "    <tr>\n",
       "      <th>0</th>\n",
       "      <td>2014-01-02</td>\n",
       "      <td>2014</td>\n",
       "      <td>1</td>\n",
       "      <td>Thursday</td>\n",
       "      <td>2</td>\n",
       "      <td>248</td>\n",
       "      <td>M01AB</td>\n",
       "      <td>0.0</td>\n",
       "    </tr>\n",
       "    <tr>\n",
       "      <th>1</th>\n",
       "      <td>2014-01-03</td>\n",
       "      <td>2014</td>\n",
       "      <td>1</td>\n",
       "      <td>Friday</td>\n",
       "      <td>3</td>\n",
       "      <td>276</td>\n",
       "      <td>M01AB</td>\n",
       "      <td>8.0</td>\n",
       "    </tr>\n",
       "    <tr>\n",
       "      <th>2</th>\n",
       "      <td>2014-01-04</td>\n",
       "      <td>2014</td>\n",
       "      <td>1</td>\n",
       "      <td>Saturday</td>\n",
       "      <td>4</td>\n",
       "      <td>276</td>\n",
       "      <td>M01AB</td>\n",
       "      <td>2.0</td>\n",
       "    </tr>\n",
       "    <tr>\n",
       "      <th>3</th>\n",
       "      <td>2014-01-05</td>\n",
       "      <td>2014</td>\n",
       "      <td>1</td>\n",
       "      <td>Sunday</td>\n",
       "      <td>5</td>\n",
       "      <td>276</td>\n",
       "      <td>M01AB</td>\n",
       "      <td>4.0</td>\n",
       "    </tr>\n",
       "    <tr>\n",
       "      <th>4</th>\n",
       "      <td>2014-01-06</td>\n",
       "      <td>2014</td>\n",
       "      <td>1</td>\n",
       "      <td>Monday</td>\n",
       "      <td>6</td>\n",
       "      <td>276</td>\n",
       "      <td>M01AB</td>\n",
       "      <td>5.0</td>\n",
       "    </tr>\n",
       "  </tbody>\n",
       "</table>\n",
       "</div>"
      ],
      "text/plain": [
       "    DateTime  Year  Month Weekday Name  Day  Hour   drug  sales\n",
       "0 2014-01-02  2014      1     Thursday    2   248  M01AB    0.0\n",
       "1 2014-01-03  2014      1       Friday    3   276  M01AB    8.0\n",
       "2 2014-01-04  2014      1     Saturday    4   276  M01AB    2.0\n",
       "3 2014-01-05  2014      1       Sunday    5   276  M01AB    4.0\n",
       "4 2014-01-06  2014      1       Monday    6   276  M01AB    5.0"
      ]
     },
     "execution_count": 9,
     "metadata": {},
     "output_type": "execute_result"
    }
   ],
   "source": [
    "melted_df.head()"
   ]
  },
  {
   "cell_type": "code",
   "execution_count": 10,
   "metadata": {},
   "outputs": [
    {
     "data": {
      "text/html": [
       "<div>\n",
       "<style scoped>\n",
       "    .dataframe tbody tr th:only-of-type {\n",
       "        vertical-align: middle;\n",
       "    }\n",
       "\n",
       "    .dataframe tbody tr th {\n",
       "        vertical-align: top;\n",
       "    }\n",
       "\n",
       "    .dataframe thead th {\n",
       "        text-align: right;\n",
       "    }\n",
       "</style>\n",
       "<table border=\"1\" class=\"dataframe\">\n",
       "  <thead>\n",
       "    <tr style=\"text-align: right;\">\n",
       "      <th></th>\n",
       "      <th>count</th>\n",
       "      <th>mean</th>\n",
       "      <th>std</th>\n",
       "      <th>min</th>\n",
       "      <th>25%</th>\n",
       "      <th>50%</th>\n",
       "      <th>75%</th>\n",
       "      <th>max</th>\n",
       "    </tr>\n",
       "    <tr>\n",
       "      <th>drug</th>\n",
       "      <th></th>\n",
       "      <th></th>\n",
       "      <th></th>\n",
       "      <th></th>\n",
       "      <th></th>\n",
       "      <th></th>\n",
       "      <th></th>\n",
       "      <th></th>\n",
       "    </tr>\n",
       "  </thead>\n",
       "  <tbody>\n",
       "    <tr>\n",
       "      <th>M01AB</th>\n",
       "      <td>2106.0</td>\n",
       "      <td>5.033683</td>\n",
       "      <td>2.737579</td>\n",
       "      <td>0.0</td>\n",
       "      <td>3.00</td>\n",
       "      <td>4.99</td>\n",
       "      <td>6.670</td>\n",
       "      <td>17.340000</td>\n",
       "    </tr>\n",
       "    <tr>\n",
       "      <th>M01AE</th>\n",
       "      <td>2106.0</td>\n",
       "      <td>3.895830</td>\n",
       "      <td>2.133337</td>\n",
       "      <td>0.0</td>\n",
       "      <td>2.34</td>\n",
       "      <td>3.67</td>\n",
       "      <td>5.138</td>\n",
       "      <td>14.463000</td>\n",
       "    </tr>\n",
       "    <tr>\n",
       "      <th>N02BA</th>\n",
       "      <td>2106.0</td>\n",
       "      <td>3.880441</td>\n",
       "      <td>2.384010</td>\n",
       "      <td>0.0</td>\n",
       "      <td>2.00</td>\n",
       "      <td>3.50</td>\n",
       "      <td>5.200</td>\n",
       "      <td>16.000000</td>\n",
       "    </tr>\n",
       "    <tr>\n",
       "      <th>N02BE</th>\n",
       "      <td>2106.0</td>\n",
       "      <td>29.917095</td>\n",
       "      <td>15.590966</td>\n",
       "      <td>0.0</td>\n",
       "      <td>19.00</td>\n",
       "      <td>26.90</td>\n",
       "      <td>38.300</td>\n",
       "      <td>161.000000</td>\n",
       "    </tr>\n",
       "    <tr>\n",
       "      <th>N05B</th>\n",
       "      <td>2106.0</td>\n",
       "      <td>8.853627</td>\n",
       "      <td>5.605605</td>\n",
       "      <td>0.0</td>\n",
       "      <td>5.00</td>\n",
       "      <td>8.00</td>\n",
       "      <td>12.000</td>\n",
       "      <td>54.833333</td>\n",
       "    </tr>\n",
       "    <tr>\n",
       "      <th>N05C</th>\n",
       "      <td>2106.0</td>\n",
       "      <td>0.593522</td>\n",
       "      <td>1.092988</td>\n",
       "      <td>0.0</td>\n",
       "      <td>0.00</td>\n",
       "      <td>0.00</td>\n",
       "      <td>1.000</td>\n",
       "      <td>9.000000</td>\n",
       "    </tr>\n",
       "    <tr>\n",
       "      <th>R03</th>\n",
       "      <td>2106.0</td>\n",
       "      <td>5.512262</td>\n",
       "      <td>6.428736</td>\n",
       "      <td>0.0</td>\n",
       "      <td>1.00</td>\n",
       "      <td>4.00</td>\n",
       "      <td>8.000</td>\n",
       "      <td>45.000000</td>\n",
       "    </tr>\n",
       "    <tr>\n",
       "      <th>R06</th>\n",
       "      <td>2106.0</td>\n",
       "      <td>2.900198</td>\n",
       "      <td>2.415816</td>\n",
       "      <td>0.0</td>\n",
       "      <td>1.00</td>\n",
       "      <td>2.00</td>\n",
       "      <td>4.000</td>\n",
       "      <td>15.000000</td>\n",
       "    </tr>\n",
       "  </tbody>\n",
       "</table>\n",
       "</div>"
      ],
      "text/plain": [
       "        count       mean        std  min    25%    50%     75%         max\n",
       "drug                                                                      \n",
       "M01AB  2106.0   5.033683   2.737579  0.0   3.00   4.99   6.670   17.340000\n",
       "M01AE  2106.0   3.895830   2.133337  0.0   2.34   3.67   5.138   14.463000\n",
       "N02BA  2106.0   3.880441   2.384010  0.0   2.00   3.50   5.200   16.000000\n",
       "N02BE  2106.0  29.917095  15.590966  0.0  19.00  26.90  38.300  161.000000\n",
       "N05B   2106.0   8.853627   5.605605  0.0   5.00   8.00  12.000   54.833333\n",
       "N05C   2106.0   0.593522   1.092988  0.0   0.00   0.00   1.000    9.000000\n",
       "R03    2106.0   5.512262   6.428736  0.0   1.00   4.00   8.000   45.000000\n",
       "R06    2106.0   2.900198   2.415816  0.0   1.00   2.00   4.000   15.000000"
      ]
     },
     "execution_count": 10,
     "metadata": {},
     "output_type": "execute_result"
    }
   ],
   "source": [
    "melted_df.groupby('drug')['sales'].describe()"
   ]
  },
  {
   "cell_type": "code",
   "execution_count": 11,
   "metadata": {},
   "outputs": [
    {
     "name": "stdout",
     "output_type": "stream",
     "text": [
      "<class 'pandas.core.frame.DataFrame'>\n",
      "RangeIndex: 16848 entries, 0 to 16847\n",
      "Data columns (total 8 columns):\n",
      " #   Column        Non-Null Count  Dtype         \n",
      "---  ------        --------------  -----         \n",
      " 0   DateTime      16848 non-null  datetime64[ns]\n",
      " 1   Year          16848 non-null  int64         \n",
      " 2   Month         16848 non-null  int64         \n",
      " 3   Weekday Name  16848 non-null  object        \n",
      " 4   Day           16848 non-null  int32         \n",
      " 5   Hour          16848 non-null  int64         \n",
      " 6   drug          16848 non-null  object        \n",
      " 7   sales         16848 non-null  float64       \n",
      "dtypes: datetime64[ns](1), float64(1), int32(1), int64(3), object(2)\n",
      "memory usage: 987.3+ KB\n"
     ]
    }
   ],
   "source": [
    "melted_df.info()"
   ]
  },
  {
   "cell_type": "code",
   "execution_count": 12,
   "metadata": {},
   "outputs": [
    {
     "data": {
      "text/plain": [
       "(Timestamp('2014-01-02 00:00:00'), Timestamp('2019-10-08 00:00:00'))"
      ]
     },
     "execution_count": 12,
     "metadata": {},
     "output_type": "execute_result"
    }
   ],
   "source": [
    "melted_df['DateTime'].min(), melted_df['DateTime'].max()"
   ]
  },
  {
   "cell_type": "code",
   "execution_count": 13,
   "metadata": {},
   "outputs": [],
   "source": [
    "melted_df['time_indx'] = (melted_df['DateTime'] - melted_df['DateTime'].min()).dt.days"
   ]
  },
  {
   "cell_type": "code",
   "execution_count": 14,
   "metadata": {},
   "outputs": [
    {
     "data": {
      "text/html": [
       "<div>\n",
       "<style scoped>\n",
       "    .dataframe tbody tr th:only-of-type {\n",
       "        vertical-align: middle;\n",
       "    }\n",
       "\n",
       "    .dataframe tbody tr th {\n",
       "        vertical-align: top;\n",
       "    }\n",
       "\n",
       "    .dataframe thead th {\n",
       "        text-align: right;\n",
       "    }\n",
       "</style>\n",
       "<table border=\"1\" class=\"dataframe\">\n",
       "  <thead>\n",
       "    <tr style=\"text-align: right;\">\n",
       "      <th></th>\n",
       "      <th>DateTime</th>\n",
       "      <th>Year</th>\n",
       "      <th>Month</th>\n",
       "      <th>Weekday Name</th>\n",
       "      <th>Day</th>\n",
       "      <th>Hour</th>\n",
       "      <th>drug</th>\n",
       "      <th>sales</th>\n",
       "      <th>time_indx</th>\n",
       "    </tr>\n",
       "  </thead>\n",
       "  <tbody>\n",
       "    <tr>\n",
       "      <th>0</th>\n",
       "      <td>2014-01-02</td>\n",
       "      <td>2014</td>\n",
       "      <td>1</td>\n",
       "      <td>Thursday</td>\n",
       "      <td>2</td>\n",
       "      <td>248</td>\n",
       "      <td>M01AB</td>\n",
       "      <td>0.0</td>\n",
       "      <td>0</td>\n",
       "    </tr>\n",
       "    <tr>\n",
       "      <th>1</th>\n",
       "      <td>2014-01-03</td>\n",
       "      <td>2014</td>\n",
       "      <td>1</td>\n",
       "      <td>Friday</td>\n",
       "      <td>3</td>\n",
       "      <td>276</td>\n",
       "      <td>M01AB</td>\n",
       "      <td>8.0</td>\n",
       "      <td>1</td>\n",
       "    </tr>\n",
       "    <tr>\n",
       "      <th>2</th>\n",
       "      <td>2014-01-04</td>\n",
       "      <td>2014</td>\n",
       "      <td>1</td>\n",
       "      <td>Saturday</td>\n",
       "      <td>4</td>\n",
       "      <td>276</td>\n",
       "      <td>M01AB</td>\n",
       "      <td>2.0</td>\n",
       "      <td>2</td>\n",
       "    </tr>\n",
       "    <tr>\n",
       "      <th>3</th>\n",
       "      <td>2014-01-05</td>\n",
       "      <td>2014</td>\n",
       "      <td>1</td>\n",
       "      <td>Sunday</td>\n",
       "      <td>5</td>\n",
       "      <td>276</td>\n",
       "      <td>M01AB</td>\n",
       "      <td>4.0</td>\n",
       "      <td>3</td>\n",
       "    </tr>\n",
       "    <tr>\n",
       "      <th>4</th>\n",
       "      <td>2014-01-06</td>\n",
       "      <td>2014</td>\n",
       "      <td>1</td>\n",
       "      <td>Monday</td>\n",
       "      <td>6</td>\n",
       "      <td>276</td>\n",
       "      <td>M01AB</td>\n",
       "      <td>5.0</td>\n",
       "      <td>4</td>\n",
       "    </tr>\n",
       "  </tbody>\n",
       "</table>\n",
       "</div>"
      ],
      "text/plain": [
       "    DateTime  Year  Month Weekday Name  Day  Hour   drug  sales  time_indx\n",
       "0 2014-01-02  2014      1     Thursday    2   248  M01AB    0.0          0\n",
       "1 2014-01-03  2014      1       Friday    3   276  M01AB    8.0          1\n",
       "2 2014-01-04  2014      1     Saturday    4   276  M01AB    2.0          2\n",
       "3 2014-01-05  2014      1       Sunday    5   276  M01AB    4.0          3\n",
       "4 2014-01-06  2014      1       Monday    6   276  M01AB    5.0          4"
      ]
     },
     "execution_count": 14,
     "metadata": {},
     "output_type": "execute_result"
    }
   ],
   "source": [
    "melted_df.head()"
   ]
  },
  {
   "cell_type": "code",
   "execution_count": 15,
   "metadata": {},
   "outputs": [
    {
     "name": "stdout",
     "output_type": "stream",
     "text": [
      "set()\n"
     ]
    }
   ],
   "source": [
    "# Create a set of all expected 'time_idx' values from 0 to the maximum value\n",
    "expected_time_index = set(range(melted_df['time_indx'].max() + 1)) \n",
    "# Convert 'time_idx' column to a set\n",
    "actual_time_index = set(melted_df['time_indx'])\n",
    "# Find the missing values in 'time_idx' range\n",
    "missing_time_idx = expected_time_index - actual_time_index\n",
    "print(missing_time_idx)"
   ]
  },
  {
   "cell_type": "code",
   "execution_count": 16,
   "metadata": {},
   "outputs": [],
   "source": [
    "## year, month, weekday, day, and hour are categorical features so let's chaneg the datatype of these columns to object\n",
    "melted_df['Year'] = melted_df['Year'].astype(str)\n",
    "melted_df['Month'] = melted_df['Month'].astype(str)\n",
    "melted_df['Weekday Name'] = melted_df['Weekday Name'].astype(str)\n",
    "melted_df['Day'] = melted_df['Day'].astype(str)\n",
    "melted_df['Hour'] = melted_df['Hour'].astype(str)"
   ]
  },
  {
   "cell_type": "code",
   "execution_count": 17,
   "metadata": {},
   "outputs": [
    {
     "name": "stdout",
     "output_type": "stream",
     "text": [
      "<class 'pandas.core.frame.DataFrame'>\n",
      "RangeIndex: 16848 entries, 0 to 16847\n",
      "Data columns (total 9 columns):\n",
      " #   Column        Non-Null Count  Dtype         \n",
      "---  ------        --------------  -----         \n",
      " 0   DateTime      16848 non-null  datetime64[ns]\n",
      " 1   Year          16848 non-null  object        \n",
      " 2   Month         16848 non-null  object        \n",
      " 3   Weekday Name  16848 non-null  object        \n",
      " 4   Day           16848 non-null  object        \n",
      " 5   Hour          16848 non-null  object        \n",
      " 6   drug          16848 non-null  object        \n",
      " 7   sales         16848 non-null  float64       \n",
      " 8   time_indx     16848 non-null  int64         \n",
      "dtypes: datetime64[ns](1), float64(1), int64(1), object(6)\n",
      "memory usage: 1.2+ MB\n"
     ]
    }
   ],
   "source": [
    "melted_df.info()"
   ]
  },
  {
   "cell_type": "code",
   "execution_count": 18,
   "metadata": {},
   "outputs": [
    {
     "data": {
      "text/html": [
       "<div>\n",
       "<style scoped>\n",
       "    .dataframe tbody tr th:only-of-type {\n",
       "        vertical-align: middle;\n",
       "    }\n",
       "\n",
       "    .dataframe tbody tr th {\n",
       "        vertical-align: top;\n",
       "    }\n",
       "\n",
       "    .dataframe thead th {\n",
       "        text-align: right;\n",
       "    }\n",
       "</style>\n",
       "<table border=\"1\" class=\"dataframe\">\n",
       "  <thead>\n",
       "    <tr style=\"text-align: right;\">\n",
       "      <th></th>\n",
       "      <th>index</th>\n",
       "      <th>DateTime</th>\n",
       "      <th>Year</th>\n",
       "      <th>Month</th>\n",
       "      <th>Weekday Name</th>\n",
       "      <th>Day</th>\n",
       "      <th>Hour</th>\n",
       "      <th>drug</th>\n",
       "      <th>sales</th>\n",
       "      <th>time_indx</th>\n",
       "    </tr>\n",
       "  </thead>\n",
       "  <tbody>\n",
       "    <tr>\n",
       "      <th>0</th>\n",
       "      <td>0</td>\n",
       "      <td>2014-01-02</td>\n",
       "      <td>2014</td>\n",
       "      <td>1</td>\n",
       "      <td>Thursday</td>\n",
       "      <td>2</td>\n",
       "      <td>248</td>\n",
       "      <td>M01AB</td>\n",
       "      <td>0.0</td>\n",
       "      <td>0</td>\n",
       "    </tr>\n",
       "    <tr>\n",
       "      <th>1</th>\n",
       "      <td>1</td>\n",
       "      <td>2014-01-03</td>\n",
       "      <td>2014</td>\n",
       "      <td>1</td>\n",
       "      <td>Friday</td>\n",
       "      <td>3</td>\n",
       "      <td>276</td>\n",
       "      <td>M01AB</td>\n",
       "      <td>8.0</td>\n",
       "      <td>1</td>\n",
       "    </tr>\n",
       "    <tr>\n",
       "      <th>2</th>\n",
       "      <td>2</td>\n",
       "      <td>2014-01-04</td>\n",
       "      <td>2014</td>\n",
       "      <td>1</td>\n",
       "      <td>Saturday</td>\n",
       "      <td>4</td>\n",
       "      <td>276</td>\n",
       "      <td>M01AB</td>\n",
       "      <td>2.0</td>\n",
       "      <td>2</td>\n",
       "    </tr>\n",
       "    <tr>\n",
       "      <th>3</th>\n",
       "      <td>3</td>\n",
       "      <td>2014-01-05</td>\n",
       "      <td>2014</td>\n",
       "      <td>1</td>\n",
       "      <td>Sunday</td>\n",
       "      <td>5</td>\n",
       "      <td>276</td>\n",
       "      <td>M01AB</td>\n",
       "      <td>4.0</td>\n",
       "      <td>3</td>\n",
       "    </tr>\n",
       "    <tr>\n",
       "      <th>4</th>\n",
       "      <td>4</td>\n",
       "      <td>2014-01-06</td>\n",
       "      <td>2014</td>\n",
       "      <td>1</td>\n",
       "      <td>Monday</td>\n",
       "      <td>6</td>\n",
       "      <td>276</td>\n",
       "      <td>M01AB</td>\n",
       "      <td>5.0</td>\n",
       "      <td>4</td>\n",
       "    </tr>\n",
       "  </tbody>\n",
       "</table>\n",
       "</div>"
      ],
      "text/plain": [
       "   index   DateTime  Year Month Weekday Name Day Hour   drug  sales  time_indx\n",
       "0      0 2014-01-02  2014     1     Thursday   2  248  M01AB    0.0          0\n",
       "1      1 2014-01-03  2014     1       Friday   3  276  M01AB    8.0          1\n",
       "2      2 2014-01-04  2014     1     Saturday   4  276  M01AB    2.0          2\n",
       "3      3 2014-01-05  2014     1       Sunday   5  276  M01AB    4.0          3\n",
       "4      4 2014-01-06  2014     1       Monday   6  276  M01AB    5.0          4"
      ]
     },
     "execution_count": 18,
     "metadata": {},
     "output_type": "execute_result"
    }
   ],
   "source": [
    "df = melted_df\n",
    "df.reset_index(inplace=True)\n",
    "df.head()"
   ]
  },
  {
   "cell_type": "code",
   "execution_count": 43,
   "metadata": {},
   "outputs": [],
   "source": [
    "from pytorch_forecasting import TimeSeriesDataSet, Baseline, TemporalFusionTransformer\n",
    "from pytorch_forecasting.data import GroupNormalizer\n",
    "from pytorch_forecasting.metrics import MAE, MAPE, RMSE, SMAPE, PoissonLoss, QuantileLoss\n",
    "\n",
    "\n",
    "from tqdm.autonotebook import tqdm\n",
    "import warnings\n",
    "\n",
    "warnings.filterwarnings(\"ignore\") \n"
   ]
  },
  {
   "cell_type": "code",
   "execution_count": 20,
   "metadata": {},
   "outputs": [],
   "source": [
    "max_prediction_length = 7\n",
    "max_encoder_length = 28\n",
    "training_cutoff = df['DateTime'].max() - pd.DateOffset(days=max_prediction_length)"
   ]
  },
  {
   "cell_type": "code",
   "execution_count": 21,
   "metadata": {},
   "outputs": [
    {
     "data": {
      "text/plain": [
       "Timestamp('2019-10-01 00:00:00')"
      ]
     },
     "execution_count": 21,
     "metadata": {},
     "output_type": "execute_result"
    }
   ],
   "source": [
    "training_cutoff"
   ]
  },
  {
   "cell_type": "code",
   "execution_count": 22,
   "metadata": {},
   "outputs": [
    {
     "data": {
      "text/html": [
       "<div>\n",
       "<style scoped>\n",
       "    .dataframe tbody tr th:only-of-type {\n",
       "        vertical-align: middle;\n",
       "    }\n",
       "\n",
       "    .dataframe tbody tr th {\n",
       "        vertical-align: top;\n",
       "    }\n",
       "\n",
       "    .dataframe thead th {\n",
       "        text-align: right;\n",
       "    }\n",
       "</style>\n",
       "<table border=\"1\" class=\"dataframe\">\n",
       "  <thead>\n",
       "    <tr style=\"text-align: right;\">\n",
       "      <th></th>\n",
       "      <th>index</th>\n",
       "      <th>DateTime</th>\n",
       "      <th>Year</th>\n",
       "      <th>Month</th>\n",
       "      <th>Weekday Name</th>\n",
       "      <th>Day</th>\n",
       "      <th>Hour</th>\n",
       "      <th>drug</th>\n",
       "      <th>sales</th>\n",
       "      <th>time_indx</th>\n",
       "    </tr>\n",
       "  </thead>\n",
       "  <tbody>\n",
       "    <tr>\n",
       "      <th>0</th>\n",
       "      <td>0</td>\n",
       "      <td>2014-01-02</td>\n",
       "      <td>2014</td>\n",
       "      <td>1</td>\n",
       "      <td>Thursday</td>\n",
       "      <td>2</td>\n",
       "      <td>248</td>\n",
       "      <td>M01AB</td>\n",
       "      <td>0.0</td>\n",
       "      <td>0</td>\n",
       "    </tr>\n",
       "    <tr>\n",
       "      <th>1</th>\n",
       "      <td>1</td>\n",
       "      <td>2014-01-03</td>\n",
       "      <td>2014</td>\n",
       "      <td>1</td>\n",
       "      <td>Friday</td>\n",
       "      <td>3</td>\n",
       "      <td>276</td>\n",
       "      <td>M01AB</td>\n",
       "      <td>8.0</td>\n",
       "      <td>1</td>\n",
       "    </tr>\n",
       "    <tr>\n",
       "      <th>2</th>\n",
       "      <td>2</td>\n",
       "      <td>2014-01-04</td>\n",
       "      <td>2014</td>\n",
       "      <td>1</td>\n",
       "      <td>Saturday</td>\n",
       "      <td>4</td>\n",
       "      <td>276</td>\n",
       "      <td>M01AB</td>\n",
       "      <td>2.0</td>\n",
       "      <td>2</td>\n",
       "    </tr>\n",
       "    <tr>\n",
       "      <th>3</th>\n",
       "      <td>3</td>\n",
       "      <td>2014-01-05</td>\n",
       "      <td>2014</td>\n",
       "      <td>1</td>\n",
       "      <td>Sunday</td>\n",
       "      <td>5</td>\n",
       "      <td>276</td>\n",
       "      <td>M01AB</td>\n",
       "      <td>4.0</td>\n",
       "      <td>3</td>\n",
       "    </tr>\n",
       "    <tr>\n",
       "      <th>4</th>\n",
       "      <td>4</td>\n",
       "      <td>2014-01-06</td>\n",
       "      <td>2014</td>\n",
       "      <td>1</td>\n",
       "      <td>Monday</td>\n",
       "      <td>6</td>\n",
       "      <td>276</td>\n",
       "      <td>M01AB</td>\n",
       "      <td>5.0</td>\n",
       "      <td>4</td>\n",
       "    </tr>\n",
       "    <tr>\n",
       "      <th>...</th>\n",
       "      <td>...</td>\n",
       "      <td>...</td>\n",
       "      <td>...</td>\n",
       "      <td>...</td>\n",
       "      <td>...</td>\n",
       "      <td>...</td>\n",
       "      <td>...</td>\n",
       "      <td>...</td>\n",
       "      <td>...</td>\n",
       "      <td>...</td>\n",
       "    </tr>\n",
       "    <tr>\n",
       "      <th>16836</th>\n",
       "      <td>16836</td>\n",
       "      <td>2019-09-27</td>\n",
       "      <td>2019</td>\n",
       "      <td>9</td>\n",
       "      <td>Friday</td>\n",
       "      <td>27</td>\n",
       "      <td>276</td>\n",
       "      <td>R06</td>\n",
       "      <td>4.0</td>\n",
       "      <td>2094</td>\n",
       "    </tr>\n",
       "    <tr>\n",
       "      <th>16837</th>\n",
       "      <td>16837</td>\n",
       "      <td>2019-09-28</td>\n",
       "      <td>2019</td>\n",
       "      <td>9</td>\n",
       "      <td>Saturday</td>\n",
       "      <td>28</td>\n",
       "      <td>276</td>\n",
       "      <td>R06</td>\n",
       "      <td>3.0</td>\n",
       "      <td>2095</td>\n",
       "    </tr>\n",
       "    <tr>\n",
       "      <th>16838</th>\n",
       "      <td>16838</td>\n",
       "      <td>2019-09-29</td>\n",
       "      <td>2019</td>\n",
       "      <td>9</td>\n",
       "      <td>Sunday</td>\n",
       "      <td>29</td>\n",
       "      <td>276</td>\n",
       "      <td>R06</td>\n",
       "      <td>2.1</td>\n",
       "      <td>2096</td>\n",
       "    </tr>\n",
       "    <tr>\n",
       "      <th>16839</th>\n",
       "      <td>16839</td>\n",
       "      <td>2019-09-30</td>\n",
       "      <td>2019</td>\n",
       "      <td>9</td>\n",
       "      <td>Monday</td>\n",
       "      <td>30</td>\n",
       "      <td>276</td>\n",
       "      <td>R06</td>\n",
       "      <td>2.0</td>\n",
       "      <td>2097</td>\n",
       "    </tr>\n",
       "    <tr>\n",
       "      <th>16840</th>\n",
       "      <td>16840</td>\n",
       "      <td>2019-10-01</td>\n",
       "      <td>2019</td>\n",
       "      <td>10</td>\n",
       "      <td>Tuesday</td>\n",
       "      <td>1</td>\n",
       "      <td>276</td>\n",
       "      <td>R06</td>\n",
       "      <td>1.5</td>\n",
       "      <td>2098</td>\n",
       "    </tr>\n",
       "  </tbody>\n",
       "</table>\n",
       "<p>16792 rows × 10 columns</p>\n",
       "</div>"
      ],
      "text/plain": [
       "       index   DateTime  Year Month Weekday Name Day Hour   drug  sales  \\\n",
       "0          0 2014-01-02  2014     1     Thursday   2  248  M01AB    0.0   \n",
       "1          1 2014-01-03  2014     1       Friday   3  276  M01AB    8.0   \n",
       "2          2 2014-01-04  2014     1     Saturday   4  276  M01AB    2.0   \n",
       "3          3 2014-01-05  2014     1       Sunday   5  276  M01AB    4.0   \n",
       "4          4 2014-01-06  2014     1       Monday   6  276  M01AB    5.0   \n",
       "...      ...        ...   ...   ...          ...  ..  ...    ...    ...   \n",
       "16836  16836 2019-09-27  2019     9       Friday  27  276    R06    4.0   \n",
       "16837  16837 2019-09-28  2019     9     Saturday  28  276    R06    3.0   \n",
       "16838  16838 2019-09-29  2019     9       Sunday  29  276    R06    2.1   \n",
       "16839  16839 2019-09-30  2019     9       Monday  30  276    R06    2.0   \n",
       "16840  16840 2019-10-01  2019    10      Tuesday   1  276    R06    1.5   \n",
       "\n",
       "       time_indx  \n",
       "0              0  \n",
       "1              1  \n",
       "2              2  \n",
       "3              3  \n",
       "4              4  \n",
       "...          ...  \n",
       "16836       2094  \n",
       "16837       2095  \n",
       "16838       2096  \n",
       "16839       2097  \n",
       "16840       2098  \n",
       "\n",
       "[16792 rows x 10 columns]"
      ]
     },
     "execution_count": 22,
     "metadata": {},
     "output_type": "execute_result"
    }
   ],
   "source": [
    "df[lambda x: x.DateTime <= training_cutoff]"
   ]
  },
  {
   "cell_type": "code",
   "execution_count": 23,
   "metadata": {},
   "outputs": [
    {
     "data": {
      "text/plain": [
       "56"
      ]
     },
     "execution_count": 23,
     "metadata": {},
     "output_type": "execute_result"
    }
   ],
   "source": [
    "df.shape[0] - 16792"
   ]
  },
  {
   "cell_type": "code",
   "execution_count": 26,
   "metadata": {},
   "outputs": [],
   "source": [
    "dataset = TimeSeriesDataSet(\n",
    "    df[lambda x: x.DateTime <= training_cutoff],\n",
    "    time_idx=\"time_indx\",\n",
    "    target=\"sales\",\n",
    "    group_ids=['drug'],\n",
    "    min_encoder_length=max_encoder_length,  # keep encoder length long (as it is in the validation set)\n",
    "    max_encoder_length=max_encoder_length,\n",
    "    min_prediction_length=max_prediction_length,\n",
    "    max_prediction_length=max_prediction_length,\n",
    "    time_varying_known_categoricals=[\"Year\", \"Month\", 'Weekday Name', 'Day'],\n",
    "    time_varying_known_reals=['time_indx'],\n",
    "    # time_varying_unknown_categoricals=[],\n",
    "    time_varying_unknown_reals=['sales'],\n",
    "    # add_relative_time_idx=True,\n",
    "    # add_target_scales=True,\n",
    "    # add_encoder_length=True,\n",
    "    # allow_missing_timesteps = True\n",
    ")"
   ]
  },
  {
   "cell_type": "code",
   "execution_count": 27,
   "metadata": {},
   "outputs": [],
   "source": [
    "# create validation set (predict=True) which means to predict the last max_prediction_length points in time\n",
    "# for each series\n",
    "validation = TimeSeriesDataSet.from_dataset(dataset, df, predict=True, stop_randomization=True)\n"
   ]
  },
  {
   "cell_type": "code",
   "execution_count": 28,
   "metadata": {},
   "outputs": [],
   "source": [
    "# create dataloaders for model\n",
    "batch_size = 32  # set this between 32 to 128\n",
    "train_dataloader = dataset.to_dataloader(train=True, batch_size=batch_size, num_workers=0)\n",
    "val_dataloader = validation.to_dataloader(train=False, batch_size=batch_size * 10, num_workers=0)"
   ]
  },
  {
   "cell_type": "code",
   "execution_count": null,
   "metadata": {},
   "outputs": [],
   "source": []
  },
  {
   "cell_type": "markdown",
   "metadata": {},
   "source": [
    "### Create a Baseline Model"
   ]
  },
  {
   "cell_type": "code",
   "execution_count": 29,
   "metadata": {},
   "outputs": [
    {
     "name": "stderr",
     "output_type": "stream",
     "text": [
      "GPU available: False, used: False\n",
      "TPU available: False, using: 0 TPU cores\n",
      "IPU available: False, using: 0 IPUs\n",
      "HPU available: False, using: 0 HPUs\n"
     ]
    },
    {
     "data": {
      "text/plain": [
       "tensor(6.2379)"
      ]
     },
     "execution_count": 29,
     "metadata": {},
     "output_type": "execute_result"
    }
   ],
   "source": [
    "# calculate baseline mean absolute error, i.e. predict next value as the last available value from thehistory\n",
    "baseline_predictions = Baseline().predict(val_dataloader, return_y=True)\n",
    "MAE()(baseline_predictions.output, baseline_predictions.y)"
   ]
  },
  {
   "cell_type": "code",
   "execution_count": 30,
   "metadata": {},
   "outputs": [
    {
     "data": {
      "text/plain": [
       "tensor([[11.3400, 11.3400, 11.3400, 11.3400, 11.3400, 11.3400, 11.3400],\n",
       "        [ 2.4060,  2.4060,  2.4060,  2.4060,  2.4060,  2.4060,  2.4060],\n",
       "        [ 0.1000,  0.1000,  0.1000,  0.1000,  0.1000,  0.1000,  0.1000],\n",
       "        [47.0000, 47.0000, 47.0000, 47.0000, 47.0000, 47.0000, 47.0000],\n",
       "        [15.0000, 15.0000, 15.0000, 15.0000, 15.0000, 15.0000, 15.0000],\n",
       "        [ 4.0000,  4.0000,  4.0000,  4.0000,  4.0000,  4.0000,  4.0000],\n",
       "        [17.0000, 17.0000, 17.0000, 17.0000, 17.0000, 17.0000, 17.0000],\n",
       "        [ 1.5000,  1.5000,  1.5000,  1.5000,  1.5000,  1.5000,  1.5000]])"
      ]
     },
     "execution_count": 30,
     "metadata": {},
     "output_type": "execute_result"
    }
   ],
   "source": [
    "baseline_predictions.output"
   ]
  },
  {
   "cell_type": "code",
   "execution_count": 31,
   "metadata": {},
   "outputs": [
    {
     "data": {
      "text/plain": [
       "(tensor([[ 5.1800,  5.0000,  7.3400,  3.8400,  4.0000,  7.3400,  0.3300],\n",
       "         [ 3.2740,  3.0000,  5.6830,  5.0100, 11.6900,  4.5070,  1.7300],\n",
       "         [ 2.8000,  4.0000,  2.2500,  6.0000,  2.0000,  3.0000,  0.5000],\n",
       "         [30.2000, 40.4000, 22.4500, 25.4000, 34.6000, 50.8000, 44.3000],\n",
       "         [ 9.0000, 10.0000, 13.0000,  7.0000,  6.0000,  6.0000, 20.0000],\n",
       "         [ 1.0000,  0.0000,  0.0000,  0.0000,  0.0000,  0.0000,  2.0000],\n",
       "         [ 0.0000,  2.0000,  1.0000,  0.0000,  5.0000, 10.0000,  2.0000],\n",
       "         [ 1.1000,  2.0000,  1.0000,  0.3300,  4.2000,  1.0000,  0.0000]]),\n",
       " None)"
      ]
     },
     "execution_count": 31,
     "metadata": {},
     "output_type": "execute_result"
    }
   ],
   "source": [
    "baseline_predictions.y"
   ]
  },
  {
   "cell_type": "code",
   "execution_count": 32,
   "metadata": {},
   "outputs": [
    {
     "data": {
      "text/plain": [
       "<torch.utils.data.dataloader.DataLoader at 0x7f67e6763370>"
      ]
     },
     "execution_count": 32,
     "metadata": {},
     "output_type": "execute_result"
    }
   ],
   "source": [
    "val_dataloader"
   ]
  },
  {
   "cell_type": "code",
   "execution_count": null,
   "metadata": {},
   "outputs": [],
   "source": []
  },
  {
   "cell_type": "markdown",
   "metadata": {},
   "source": [
    "### Train the Temporal Fusion Transformer"
   ]
  },
  {
   "cell_type": "code",
   "execution_count": 34,
   "metadata": {},
   "outputs": [],
   "source": [
    "\n",
    "import lightning.pytorch as pl\n",
    "from lightning.pytorch.callbacks import EarlyStopping, LearningRateMonitor\n"
   ]
  },
  {
   "cell_type": "code",
   "execution_count": 35,
   "metadata": {},
   "outputs": [
    {
     "name": "stderr",
     "output_type": "stream",
     "text": [
      "Global seed set to 42\n",
      "GPU available: False, used: False\n",
      "TPU available: False, using: 0 TPU cores\n",
      "IPU available: False, using: 0 IPUs\n",
      "HPU available: False, using: 0 HPUs\n"
     ]
    },
    {
     "name": "stdout",
     "output_type": "stream",
     "text": [
      "Number of parameters in network: 6.1k\n"
     ]
    }
   ],
   "source": [
    "# configure network and trainer\n",
    "pl.seed_everything(42)\n",
    "trainer = pl.Trainer(\n",
    "    accelerator=\"cpu\",\n",
    "    # clipping gradients is a hyperparameter and important to prevent divergance\n",
    "    # of the gradient for recurrent neural networks\n",
    "    gradient_clip_val=0.1,\n",
    ")\n",
    "\n",
    "\n",
    "tft = TemporalFusionTransformer.from_dataset(\n",
    "    dataset,\n",
    "    # not meaningful for finding the learning rate but otherwise very important\n",
    "    learning_rate=0.000001,\n",
    "    hidden_size=8,  # most important hyperparameter apart from learning rate\n",
    "    # number of attention heads. Set to up to 4 for large datasets\n",
    "    attention_head_size=1,\n",
    "    dropout=0.1,  # between 0.1 and 0.3 are good values\n",
    "    hidden_continuous_size=8,  # set to <= hidden_size\n",
    "    loss=QuantileLoss(),\n",
    "    optimizer=\"Ranger\"\n",
    "    # reduce learning rate if no improvement in validation loss after x epochs\n",
    "    # reduce_on_plateau_patience=1000,\n",
    ")\n",
    "print(f\"Number of parameters in network: {tft.size()/1e3:.1f}k\")"
   ]
  },
  {
   "cell_type": "code",
   "execution_count": null,
   "metadata": {},
   "outputs": [
    {
     "name": "stderr",
     "output_type": "stream",
     "text": [
      "Finding best initial lr:  26%|██▌       | 26/100 [00:01<00:06, 12.31it/s]"
     ]
    },
    {
     "name": "stderr",
     "output_type": "stream",
     "text": [
      "Finding best initial lr: 100%|██████████| 100/100 [00:07<00:00, 13.63it/s]`Trainer.fit` stopped: `max_steps=100` reached.\n",
      "Finding best initial lr: 100%|██████████| 100/100 [00:07<00:00, 13.55it/s]\n",
      "Learning rate set to 0.12882495516931336\n",
      "Restoring states from the checkpoint path at /home/fm-pc-lt-281/projects/Pharmaceutical Forecasting/.lr_find_60143b6f-f44f-4c9c-aebf-69a93482a814.ckpt\n",
      "Restored all states from the checkpoint at /home/fm-pc-lt-281/projects/Pharmaceutical Forecasting/.lr_find_60143b6f-f44f-4c9c-aebf-69a93482a814.ckpt\n"
     ]
    },
    {
     "name": "stdout",
     "output_type": "stream",
     "text": [
      "suggested learning rate: 0.12882495516931336\n"
     ]
    },
    {
     "data": {
      "image/png": "[encoded data removed]",
      "text/plain": [
       "<Figure size 640x480 with 1 Axes>"
      ]
     },
     "metadata": {},
     "output_type": "display_data"
    }
   ],
   "source": [
    "# find optimal learning rate\n",
    "from lightning.pytorch.tuner import Tuner\n",
    "\n",
    "res = Tuner(trainer).lr_find(\n",
    "    tft,\n",
    "    train_dataloaders=train_dataloader,\n",
    "    val_dataloaders=val_dataloader,\n",
    "    max_lr=10.0,\n",
    "    min_lr=1e-6,\n",
    ")\n",
    "\n",
    "print(f\"suggested learning rate: {res.suggestion()}\")\n",
    "fig = res.plot(show=True, suggest=True)\n",
    "fig.show()"
   ]
  },
  {
   "cell_type": "code",
   "execution_count": 36,
   "metadata": {},
   "outputs": [],
   "source": [
    "from lightning.pytorch.loggers import TensorBoardLogger\n",
    "from lightning.pytorch.callbacks import ModelCheckpoint\n",
    "\n",
    "import pytorch_lightning"
   ]
  },
  {
   "cell_type": "code",
   "execution_count": 45,
   "metadata": {},
   "outputs": [
    {
     "name": "stderr",
     "output_type": "stream",
     "text": [
      "GPU available: False, used: False\n",
      "TPU available: False, using: 0 TPU cores\n",
      "IPU available: False, using: 0 IPUs\n",
      "HPU available: False, using: 0 HPUs\n"
     ]
    },
    {
     "name": "stdout",
     "output_type": "stream",
     "text": [
      "Number of parameters in network: 17.3k\n"
     ]
    }
   ],
   "source": [
    "# configure network and trainer\n",
    "early_stop_callback = EarlyStopping(monitor=\"val_loss\", min_delta=1e-4, patience=10, verbose=False, mode=\"min\")\n",
    "lr_logger = LearningRateMonitor()  # log the learning rate\n",
    "logger = TensorBoardLogger(\"lightning_logs_1\")  # logging results to a tensorboard\n",
    "\n",
    "\n",
    "# save the best and the last model periodically by monitoring the val_loss\n",
    "checkpoint_callback = ModelCheckpoint(\n",
    "     monitor='val_loss',\n",
    "     mode='min',\n",
    "     dirpath='model_saved/',\n",
    "     filename='tft-{epoch:02d}-{val_loss:.2f}',\n",
    "     save_last=True, \n",
    "     save_top_k=1\n",
    " )\n",
    "\n",
    "\n",
    "# setup pytorch lightning trainer which handles the training process\n",
    "trainer = pl.Trainer(\n",
    "    max_epochs=250,\n",
    "    accelerator=\"cpu\",\n",
    "    enable_model_summary=True,\n",
    "    gradient_clip_val=0.1,\n",
    "    limit_train_batches=32,  # coment in for training, running valiation every 30 batches\n",
    "    # fast_dev_run=True,  # comment in to check that networkor dataset has no serious bugs\n",
    "    callbacks=[lr_logger, checkpoint_callback],\n",
    "    logger=logger,\n",
    ")\n",
    "\n",
    "# set up tft model using the given dataset\n",
    "tft = TemporalFusionTransformer.from_dataset(\n",
    "    dataset,\n",
    "    learning_rate=0.01,\n",
    "    hidden_size=16,\n",
    "    attention_head_size=2,\n",
    "    dropout=0.1,\n",
    "    hidden_continuous_size=8,\n",
    "    loss=QuantileLoss(),\n",
    "    log_interval=10,  # uncomment for learning rate finder and otherwise, e.g. to 10 for logging every 10 batches\n",
    "    optimizer=\"Ranger\",\n",
    "    reduce_on_plateau_patience=4,\n",
    ")\n",
    "print(f\"Number of parameters in network: {tft.size()/1e3:.1f}k\")"
   ]
  },
  {
   "cell_type": "code",
   "execution_count": 46,
   "metadata": {},
   "outputs": [
    {
     "name": "stderr",
     "output_type": "stream",
     "text": [
      "\n",
      "   | Name                               | Type                            | Params\n",
      "----------------------------------------------------------------------------------------\n",
      "0  | loss                               | QuantileLoss                    | 0     \n",
      "1  | logging_metrics                    | ModuleList                      | 0     \n",
      "2  | input_embeddings                   | MultiEmbedding                  | 472   \n",
      "3  | prescalers                         | ModuleDict                      | 32    \n",
      "4  | static_variable_selection          | VariableSelectionNetwork        | 0     \n",
      "5  | encoder_variable_selection         | VariableSelectionNetwork        | 1.8 K \n",
      "6  | decoder_variable_selection         | VariableSelectionNetwork        | 1.1 K \n",
      "7  | static_context_variable_selection  | GatedResidualNetwork            | 1.1 K \n",
      "8  | static_context_initial_hidden_lstm | GatedResidualNetwork            | 1.1 K \n",
      "9  | static_context_initial_cell_lstm   | GatedResidualNetwork            | 1.1 K \n",
      "10 | static_context_enrichment          | GatedResidualNetwork            | 1.1 K \n",
      "11 | lstm_encoder                       | LSTM                            | 2.2 K \n",
      "12 | lstm_decoder                       | LSTM                            | 2.2 K \n",
      "13 | post_lstm_gate_encoder             | GatedLinearUnit                 | 544   \n",
      "14 | post_lstm_add_norm_encoder         | AddNorm                         | 32    \n",
      "15 | static_enrichment                  | GatedResidualNetwork            | 1.4 K \n",
      "16 | multihead_attn                     | InterpretableMultiHeadAttention | 808   \n",
      "17 | post_attn_gate_norm                | GateAddNorm                     | 576   \n",
      "18 | pos_wise_ff                        | GatedResidualNetwork            | 1.1 K \n",
      "19 | pre_output_gate_norm               | GateAddNorm                     | 576   \n",
      "20 | output_layer                       | Linear                          | 119   \n",
      "----------------------------------------------------------------------------------------\n",
      "17.3 K    Trainable params\n",
      "0         Non-trainable params\n",
      "17.3 K    Total params\n",
      "0.069     Total estimated model params size (MB)\n"
     ]
    },
    {
     "name": "stdout",
     "output_type": "stream",
     "text": [
      "Epoch 249: 100%|██████████| 32/32 [00:02<00:00, 14.30it/s, v_num=15, train_loss_step=2.050, val_loss=1.650, train_loss_epoch=1.730]"
     ]
    },
    {
     "name": "stderr",
     "output_type": "stream",
     "text": [
      "`Trainer.fit` stopped: `max_epochs=250` reached.\n"
     ]
    },
    {
     "name": "stdout",
     "output_type": "stream",
     "text": [
      "Epoch 249: 100%|██████████| 32/32 [00:02<00:00, 13.97it/s, v_num=15, train_loss_step=2.050, val_loss=1.650, train_loss_epoch=1.730]\n"
     ]
    }
   ],
   "source": [
    "# fit network (model training)\n",
    "trainer.fit(\n",
    "    tft,\n",
    "    train_dataloaders=train_dataloader,\n",
    "    val_dataloaders=val_dataloader,\n",
    ")"
   ]
  },
  {
   "cell_type": "markdown",
   "metadata": {},
   "source": [
    "### Hyperparameter Tuning"
   ]
  },
  {
   "cell_type": "code",
   "execution_count": 47,
   "metadata": {},
   "outputs": [
    {
     "data": {
      "text/plain": [
       "[0.02, 0.1, 0.25, 0.5, 0.75, 0.9, 0.98]"
      ]
     },
     "execution_count": 47,
     "metadata": {},
     "output_type": "execute_result"
    }
   ],
   "source": [
    "tft.loss.quantiles"
   ]
  },
  {
   "cell_type": "markdown",
   "metadata": {},
   "source": [
    "### Model Evaluation"
   ]
  },
  {
   "cell_type": "code",
   "execution_count": 63,
   "metadata": {},
   "outputs": [
    {
     "name": "stdout",
     "output_type": "stream",
     "text": [
      "Testing: 0it [00:00, ?it/s]"
     ]
    },
    {
     "name": "stdout",
     "output_type": "stream",
     "text": [
      "Testing DataLoader 0: 100%|██████████| 1/1 [00:00<00:00,  1.26it/s]\n"
     ]
    },
    {
     "data": {
      "text/html": [
       "<pre style=\"white-space:pre;overflow-x:auto;line-height:normal;font-family:Menlo,'DejaVu Sans Mono',consolas,'Courier New',monospace\">┏━━━━━━━━━━━━━━━━━━━━━━━━━━━┳━━━━━━━━━━━━━━━━━━━━━━━━━━━┓\n",
       "┃<span style=\"font-weight: bold\">        Test metric        </span>┃<span style=\"font-weight: bold\">       DataLoader 0        </span>┃\n",
       "┡━━━━━━━━━━━━━━━━━━━━━━━━━━━╇━━━━━━━━━━━━━━━━━━━━━━━━━━━┩\n",
       "│<span style=\"color: #008080; text-decoration-color: #008080\">         test_MAE          </span>│<span style=\"color: #800080; text-decoration-color: #800080\">     2.818255662918091     </span>│\n",
       "│<span style=\"color: #008080; text-decoration-color: #008080\">         test_MAPE         </span>│<span style=\"color: #800080; text-decoration-color: #800080\">        19577846.0         </span>│\n",
       "│<span style=\"color: #008080; text-decoration-color: #008080\">         test_RMSE         </span>│<span style=\"color: #800080; text-decoration-color: #800080\">     4.555354595184326     </span>│\n",
       "│<span style=\"color: #008080; text-decoration-color: #008080\">        test_SMAPE         </span>│<span style=\"color: #800080; text-decoration-color: #800080\">    0.7283971905708313     </span>│\n",
       "│<span style=\"color: #008080; text-decoration-color: #008080\">         test_loss         </span>│<span style=\"color: #800080; text-decoration-color: #800080\">    1.5693057775497437     </span>│\n",
       "└───────────────────────────┴───────────────────────────┘\n",
       "</pre>\n"
      ],
      "text/plain": [
       "┏━━━━━━━━━━━━━━━━━━━━━━━━━━━┳━━━━━━━━━━━━━━━━━━━━━━━━━━━┓\n",
       "┃\u001b[1m \u001b[0m\u001b[1m       Test metric       \u001b[0m\u001b[1m \u001b[0m┃\u001b[1m \u001b[0m\u001b[1m      DataLoader 0       \u001b[0m\u001b[1m \u001b[0m┃\n",
       "┡━━━━━━━━━━━━━━━━━━━━━━━━━━━╇━━━━━━━━━━━━━━━━━━━━━━━━━━━┩\n",
       "│\u001b[36m \u001b[0m\u001b[36m        test_MAE         \u001b[0m\u001b[36m \u001b[0m│\u001b[35m \u001b[0m\u001b[35m    2.818255662918091    \u001b[0m\u001b[35m \u001b[0m│\n",
       "│\u001b[36m \u001b[0m\u001b[36m        test_MAPE        \u001b[0m\u001b[36m \u001b[0m│\u001b[35m \u001b[0m\u001b[35m       19577846.0        \u001b[0m\u001b[35m \u001b[0m│\n",
       "│\u001b[36m \u001b[0m\u001b[36m        test_RMSE        \u001b[0m\u001b[36m \u001b[0m│\u001b[35m \u001b[0m\u001b[35m    4.555354595184326    \u001b[0m\u001b[35m \u001b[0m│\n",
       "│\u001b[36m \u001b[0m\u001b[36m       test_SMAPE        \u001b[0m\u001b[36m \u001b[0m│\u001b[35m \u001b[0m\u001b[35m   0.7283971905708313    \u001b[0m\u001b[35m \u001b[0m│\n",
       "│\u001b[36m \u001b[0m\u001b[36m        test_loss        \u001b[0m\u001b[36m \u001b[0m│\u001b[35m \u001b[0m\u001b[35m   1.5693057775497437    \u001b[0m\u001b[35m \u001b[0m│\n",
       "└───────────────────────────┴───────────────────────────┘\n"
      ]
     },
     "metadata": {},
     "output_type": "display_data"
    },
    {
     "data": {
      "text/plain": [
       "[{'test_loss': 1.5693057775497437,\n",
       "  'test_SMAPE': 0.7283971905708313,\n",
       "  'test_MAE': 2.818255662918091,\n",
       "  'test_RMSE': 4.555354595184326,\n",
       "  'test_MAPE': 19577846.0}]"
      ]
     },
     "execution_count": 63,
     "metadata": {},
     "output_type": "execute_result"
    }
   ],
   "source": [
    "trainer.test(dataloaders=val_dataloader)"
   ]
  },
  {
   "cell_type": "code",
   "execution_count": 157,
   "metadata": {},
   "outputs": [],
   "source": [
    "# load the model saved by tensorboard logger\n",
    "best_model = tft.load_from_checkpoint(checkpoint_path=\"/home/fm-pc-lt-281/projects/Pharmaceutical Forecasting/model_saved/tft-epoch=03-val_loss=1.60.ckpt\")"
   ]
  },
  {
   "cell_type": "code",
   "execution_count": 163,
   "metadata": {},
   "outputs": [
    {
     "name": "stdout",
     "output_type": "stream",
     "text": [
      "test_MAE:  tensor(2.8907)\n",
      "test_MAPE:  tensor(19574094.)\n",
      "test_RMSE:  tensor(4.6324)\n",
      "test_SMAPE:  tensor(0.7338)\n",
      "test_loss:  tensor(1.1660e+13)\n"
     ]
    }
   ],
   "source": [
    "predictions = best_model.predict(val_dataloader, return_y=True)\n",
    "print('test_MAE: ', MAE()(predictions.output, predictions.y))\n",
    "print('test_MAPE: ', MAPE()(predictions.output, predictions.y))\n",
    "print('test_RMSE: ', RMSE()(predictions.output, predictions.y))\n",
    "print('test_SMAPE: ', SMAPE()(predictions.output, predictions.y))\n",
    "print('test_loss: ', PoissonLoss()(predictions.output, predictions.y))"
   ]
  },
  {
   "cell_type": "code",
   "execution_count": 161,
   "metadata": {},
   "outputs": [
    {
     "data": {
      "text/plain": [
       "11660000000000.0"
      ]
     },
     "execution_count": 161,
     "metadata": {},
     "output_type": "execute_result"
    }
   ],
   "source": [
    "1.1660e13"
   ]
  },
  {
   "cell_type": "code",
   "execution_count": 155,
   "metadata": {},
   "outputs": [
    {
     "data": {
      "text/plain": [
       "tensor(2.8183)"
      ]
     },
     "execution_count": 155,
     "metadata": {},
     "output_type": "execute_result"
    }
   ],
   "source": [
    "preds = tft.predict(val_dataloader, return_y=True)\n",
    "MAE()(preds.output, preds.y)"
   ]
  },
  {
   "cell_type": "code",
   "execution_count": 159,
   "metadata": {},
   "outputs": [
    {
     "name": "stdout",
     "output_type": "stream",
     "text": [
      "test_MAE:  tensor(2.8907)\n",
      "test_MAPE:  tensor(19574094.)\n",
      "test_RMSE:  tensor(4.6324)\n",
      "test_SMAPE:  tensor(0.7338)\n",
      "test_loss:  tensor(1.1660e+13)\n"
     ]
    }
   ],
   "source": [
    "last_model = tft.load_from_checkpoint(checkpoint_path=\"/home/fm-pc-lt-281/projects/Pharmaceutical Forecasting/model_saved/last-v1.ckpt\")\n",
    "predictions = best_model.predict(val_dataloader, return_y=True)\n",
    "print('test_MAE: ', MAE()(predictions.output, predictions.y))\n",
    "print('test_MAPE: ', MAPE()(predictions.output, predictions.y))\n",
    "print('test_RMSE: ', RMSE()(predictions.output, predictions.y))\n",
    "print('test_SMAPE: ', SMAPE()(predictions.output, predictions.y))\n",
    "print('test_loss: ', PoissonLoss()(predictions.output, predictions.y))"
   ]
  },
  {
   "cell_type": "code",
   "execution_count": 130,
   "metadata": {},
   "outputs": [
    {
     "data": {
      "text/plain": [
       "tensor([[ 4.6997,  4.6768,  5.0208,  5.0854,  4.5441,  5.1433,  5.0371],\n",
       "        [ 3.1447,  3.1263,  3.3690,  3.4148,  3.0313,  3.4554,  3.3806],\n",
       "        [ 2.4809,  2.4661,  2.6594,  2.6958,  2.3909,  2.7284,  2.6688],\n",
       "        [30.6605, 30.5664, 32.3505, 32.6882, 29.8802, 32.9893, 32.4379],\n",
       "        [ 6.5271,  6.4948,  7.0180,  7.1165,  6.2908,  7.2045,  7.0426],\n",
       "        [ 0.2261,  0.2169,  0.3546,  0.3805,  0.1631,  0.4035,  0.3611],\n",
       "        [ 2.7832,  2.7352,  3.4964,  3.6401,  2.4379,  3.7671,  3.5322],\n",
       "        [ 2.7691,  2.7493,  3.0072,  3.0558,  2.6480,  3.0990,  3.0195]])"
      ]
     },
     "execution_count": 130,
     "metadata": {},
     "output_type": "execute_result"
    }
   ],
   "source": [
    "best_model.predict(val_dataloader)"
   ]
  },
  {
   "cell_type": "code",
   "execution_count": 148,
   "metadata": {},
   "outputs": [
    {
     "data": {
      "text/plain": [
       "Prediction(output=tensor([[[ 8.8740e-01,  2.1329e+00,  3.1975e+00,  4.6997e+00,  6.9016e+00,\n",
       "           9.5209e+00,  1.2967e+01],\n",
       "         [ 9.7923e-01,  1.9429e+00,  3.1275e+00,  4.6768e+00,  6.6751e+00,\n",
       "           9.0174e+00,  1.2446e+01],\n",
       "         [ 1.1338e+00,  2.1970e+00,  3.5536e+00,  5.0208e+00,  7.4563e+00,\n",
       "           9.5786e+00,  1.2736e+01],\n",
       "         [ 1.2568e+00,  2.4979e+00,  3.6802e+00,  5.0854e+00,  7.3657e+00,\n",
       "           9.5004e+00,  1.2505e+01],\n",
       "         [ 7.8862e-01,  2.0659e+00,  3.1589e+00,  4.5441e+00,  6.7290e+00,\n",
       "           9.2035e+00,  1.2602e+01],\n",
       "         [ 1.2251e+00,  2.2700e+00,  3.5746e+00,  5.1433e+00,  7.1510e+00,\n",
       "           9.4411e+00,  1.2348e+01],\n",
       "         [ 1.4613e-01,  2.7388e+00,  3.4011e+00,  5.0371e+00,  6.5816e+00,\n",
       "           9.5135e+00,  1.3020e+01]],\n",
       "\n",
       "        [[ 4.3336e-01,  1.3303e+00,  2.0746e+00,  3.1447e+00,  4.7008e+00,\n",
       "           6.5605e+00,  9.0037e+00],\n",
       "         [ 4.9965e-01,  1.1907e+00,  2.0255e+00,  3.1263e+00,  4.5407e+00,\n",
       "           6.2028e+00,  8.6330e+00],\n",
       "         [ 6.1293e-01,  1.3692e+00,  2.3280e+00,  3.3690e+00,  5.0937e+00,\n",
       "           6.5982e+00,  8.8363e+00],\n",
       "         [ 7.0101e-01,  1.5818e+00,  2.4178e+00,  3.4148e+00,  5.0300e+00,\n",
       "           6.5427e+00,  8.6722e+00],\n",
       "         [ 3.6900e-01,  1.2753e+00,  2.0485e+00,  3.0313e+00,  4.5791e+00,\n",
       "           6.3326e+00,  8.7410e+00],\n",
       "         [ 6.7897e-01,  1.4196e+00,  2.3432e+00,  3.4554e+00,  4.8780e+00,\n",
       "           6.5004e+00,  8.5613e+00],\n",
       "         [-8.5824e-02,  1.7519e+00,  2.2204e+00,  3.3806e+00,  4.4747e+00,\n",
       "           6.5521e+00,  9.0369e+00]],\n",
       "\n",
       "        [[ 3.2127e-01,  1.0390e+00,  1.6265e+00,  2.4809e+00,  3.7200e+00,\n",
       "           5.2014e+00,  7.1490e+00],\n",
       "         [ 3.7418e-01,  9.2592e-01,  1.5888e+00,  2.4661e+00,  3.5924e+00,\n",
       "           4.9164e+00,  6.8522e+00],\n",
       "         [ 4.6519e-01,  1.0674e+00,  1.8301e+00,  2.6594e+00,  4.0326e+00,\n",
       "           5.2307e+00,  7.0132e+00],\n",
       "         [ 5.3552e-01,  1.2363e+00,  1.9018e+00,  2.6958e+00,  3.9820e+00,\n",
       "           5.1864e+00,  6.8824e+00],\n",
       "         [ 2.7094e-01,  9.9240e-01,  1.6079e+00,  2.3909e+00,  3.6231e+00,\n",
       "           5.0194e+00,  6.9370e+00],\n",
       "         [ 5.1771e-01,  1.1074e+00,  1.8426e+00,  2.7284e+00,  3.8611e+00,\n",
       "           5.1530e+00,  6.7941e+00],\n",
       "         [-9.1082e-02,  1.3718e+00,  1.7448e+00,  2.6688e+00,  3.5399e+00,\n",
       "           5.1940e+00,  7.1726e+00]],\n",
       "\n",
       "        [[ 1.0947e+01,  1.7317e+01,  2.2860e+01,  3.0660e+01,  4.2138e+01,\n",
       "           5.5684e+01,  7.3565e+01],\n",
       "         [ 1.1427e+01,  1.6370e+01,  2.2518e+01,  3.0566e+01,  4.0948e+01,\n",
       "           5.3075e+01,  7.0848e+01],\n",
       "         [ 1.2176e+01,  1.7692e+01,  2.4729e+01,  3.2350e+01,  4.5001e+01,\n",
       "           5.6021e+01,  7.2396e+01],\n",
       "         [ 1.2803e+01,  1.9255e+01,  2.5392e+01,  3.2688e+01,  4.4525e+01,\n",
       "           5.5618e+01,  7.1195e+01],\n",
       "         [ 1.0376e+01,  1.7013e+01,  2.2685e+01,  2.9880e+01,  4.1217e+01,\n",
       "           5.4073e+01,  7.1696e+01],\n",
       "         [ 1.2637e+01,  1.8072e+01,  2.4843e+01,  3.2989e+01,  4.3408e+01,\n",
       "           5.5306e+01,  7.0387e+01],\n",
       "         [ 7.0331e+00,  2.0505e+01,  2.3942e+01,  3.2438e+01,  4.0451e+01,\n",
       "           5.5685e+01,  7.3873e+01]],\n",
       "\n",
       "        [[ 7.1874e-01,  2.6038e+00,  4.2350e+00,  6.5271e+00,  9.8897e+00,\n",
       "           1.3881e+01,  1.9136e+01],\n",
       "         [ 8.5974e-01,  2.3201e+00,  4.1294e+00,  6.4948e+00,  9.5431e+00,\n",
       "           1.3114e+01,  1.8340e+01],\n",
       "         [ 1.0878e+00,  2.7083e+00,  4.7784e+00,  7.0180e+00,  1.0735e+01,\n",
       "           1.3974e+01,  1.8790e+01],\n",
       "         [ 1.2742e+00,  3.1675e+00,  4.9721e+00,  7.1165e+00,  1.0597e+01,\n",
       "           1.3855e+01,  1.8437e+01],\n",
       "         [ 5.6037e-01,  2.5085e+00,  4.1772e+00,  6.2908e+00,  9.6244e+00,\n",
       "           1.3401e+01,  1.8584e+01],\n",
       "         [ 1.2257e+00,  2.8198e+00,  4.8111e+00,  7.2045e+00,  1.0269e+01,\n",
       "           1.3763e+01,  1.8199e+01],\n",
       "         [-4.2055e-01,  3.5350e+00,  4.5465e+00,  7.0426e+00,  9.3996e+00,\n",
       "           1.3874e+01,  1.9223e+01]],\n",
       "\n",
       "        [[-1.3061e+00, -8.0895e-01, -3.7870e-01,  2.2611e-01,  1.1100e+00,\n",
       "           2.1620e+00,  3.5446e+00],\n",
       "         [-1.2685e+00, -8.8341e-01, -4.0666e-01,  2.1695e-01,  1.0192e+00,\n",
       "           1.9596e+00,  3.3358e+00],\n",
       "         [-1.2076e+00, -7.8083e-01, -2.3572e-01,  3.5455e-01,  1.3329e+00,\n",
       "           2.1857e+00,  3.4540e+00],\n",
       "         [-1.1583e+00, -6.5975e-01, -1.8471e-01,  3.8050e-01,  1.2966e+00,\n",
       "           2.1542e+00,  3.3612e+00],\n",
       "         [-1.3461e+00, -8.3323e-01, -3.9416e-01,  1.6312e-01,  1.0407e+00,\n",
       "           2.0345e+00,  3.3999e+00],\n",
       "         [-1.1708e+00, -7.5125e-01, -2.2716e-01,  4.0352e-01,  1.2101e+00,\n",
       "           2.1300e+00,  3.2984e+00],\n",
       "         [-1.6042e+00, -5.6278e-01, -2.9686e-01,  3.6111e-01,  9.8139e-01,\n",
       "           2.1591e+00,  3.5679e+00]],\n",
       "\n",
       "        [[-5.6785e+00, -2.9327e+00, -5.5764e-01,  2.7832e+00,  7.6733e+00,\n",
       "           1.3483e+01,  2.1130e+01],\n",
       "         [-5.4725e+00, -3.3453e+00, -7.1274e-01,  2.7352e+00,  7.1691e+00,\n",
       "           1.2366e+01,  1.9972e+01],\n",
       "         [-5.1399e+00, -2.7801e+00,  2.3184e-01,  3.4964e+00,  8.9037e+00,\n",
       "           1.3618e+01,  2.0627e+01],\n",
       "         [-4.8685e+00, -2.1114e+00,  5.1427e-01,  3.6401e+00,  8.7025e+00,\n",
       "           1.3445e+01,  2.0113e+01],\n",
       "         [-5.9079e+00, -3.0709e+00, -6.4422e-01,  2.4379e+00,  7.2875e+00,\n",
       "           1.2784e+01,  2.0329e+01],\n",
       "         [-4.9386e+00, -2.6172e+00,  2.7929e-01,  3.7671e+00,  8.2244e+00,\n",
       "           1.3311e+01,  1.9767e+01],\n",
       "         [-7.3348e+00, -1.5763e+00, -1.0629e-01,  3.5322e+00,  6.9598e+00,\n",
       "           1.3472e+01,  2.1258e+01]],\n",
       "\n",
       "        [[-1.1673e-01,  8.3842e-01,  1.6300e+00,  2.7691e+00,  4.4242e+00,\n",
       "           6.4026e+00,  9.0023e+00],\n",
       "         [-4.5730e-02,  6.8947e-01,  1.5775e+00,  2.7493e+00,  4.2540e+00,\n",
       "           6.0221e+00,  8.6079e+00],\n",
       "         [ 7.4970e-02,  8.7920e-01,  1.8992e+00,  3.0072e+00,  4.8421e+00,\n",
       "           6.4427e+00,  8.8243e+00],\n",
       "         [ 1.6877e-01,  1.1054e+00,  1.9949e+00,  3.0558e+00,  4.7745e+00,\n",
       "           6.3836e+00,  8.6497e+00],\n",
       "         [-1.8452e-01,  7.7920e-01,  1.6018e+00,  2.6480e+00,  4.2948e+00,\n",
       "           6.1600e+00,  8.7229e+00],\n",
       "         [ 1.4523e-01,  9.3284e-01,  1.9155e+00,  3.0990e+00,  4.6127e+00,\n",
       "           6.3386e+00,  8.5318e+00],\n",
       "         [-6.6834e-01,  1.2864e+00,  1.7847e+00,  3.0195e+00,  4.1837e+00,\n",
       "           6.3935e+00,  9.0377e+00]]]), x=None, index=None, decoder_lengths=None, y=(tensor([[ 5.1800,  5.0000,  7.3400,  3.8400,  4.0000,  7.3400,  0.3300],\n",
       "        [ 3.2740,  3.0000,  5.6830,  5.0100, 11.6900,  4.5070,  1.7300],\n",
       "        [ 2.8000,  4.0000,  2.2500,  6.0000,  2.0000,  3.0000,  0.5000],\n",
       "        [30.2000, 40.4000, 22.4500, 25.4000, 34.6000, 50.8000, 44.3000],\n",
       "        [ 9.0000, 10.0000, 13.0000,  7.0000,  6.0000,  6.0000, 20.0000],\n",
       "        [ 1.0000,  0.0000,  0.0000,  0.0000,  0.0000,  0.0000,  2.0000],\n",
       "        [ 0.0000,  2.0000,  1.0000,  0.0000,  5.0000, 10.0000,  2.0000],\n",
       "        [ 1.1000,  2.0000,  1.0000,  0.3300,  4.2000,  1.0000,  0.0000]]), None))"
      ]
     },
     "execution_count": 148,
     "metadata": {},
     "output_type": "execute_result"
    }
   ],
   "source": [
    "best_model.predict(val_dataloader, return_y=True, mode='quantiles')"
   ]
  },
  {
   "cell_type": "code",
   "execution_count": 127,
   "metadata": {},
   "outputs": [
    {
     "data": {
      "text/plain": [
       "tensor([ 0.9792,  1.9429,  3.1275,  4.6768,  6.6751,  9.0174, 12.4457])"
      ]
     },
     "execution_count": 127,
     "metadata": {},
     "output_type": "execute_result"
    }
   ],
   "source": [
    "best_model.predict(val_dataloader, return_y=True, mode='quantiles').output[0][1]"
   ]
  },
  {
   "cell_type": "code",
   "execution_count": null,
   "metadata": {},
   "outputs": [],
   "source": []
  },
  {
   "cell_type": "code",
   "execution_count": 134,
   "metadata": {},
   "outputs": [],
   "source": [
    "pred = best_model.predict(val_dataloader, return_y=True, mode='quantiles')\n",
    "# for i in range(0,8):\n",
    "#     print('Model evaluation for quantile_{}:'.format(i))\n",
    "#     print('test_MAE: ', MAE()(pred.output[i], predictions.y))\n",
    "#     print('test_MAPE: ', MAPE()(pred.output[i], predictions.y))\n",
    "#     print('test_RMSE: ', RMSE()(pred.output[i], predictions.y))\n",
    "#     print('test_SMAPE: ', SMAPE()(pred.output[i], predictions.y))\n",
    "#     print('test_loss: ', PoissonLoss()(pred.output[i], predictions.y))"
   ]
  },
  {
   "cell_type": "code",
   "execution_count": 143,
   "metadata": {},
   "outputs": [
    {
     "data": {
      "text/plain": [
       "tensor([[[ 8.8740e-01,  2.1329e+00,  3.1975e+00,  4.6997e+00,  6.9016e+00,\n",
       "           9.5209e+00,  1.2967e+01],\n",
       "         [ 9.7923e-01,  1.9429e+00,  3.1275e+00,  4.6768e+00,  6.6751e+00,\n",
       "           9.0174e+00,  1.2446e+01],\n",
       "         [ 1.1338e+00,  2.1970e+00,  3.5536e+00,  5.0208e+00,  7.4563e+00,\n",
       "           9.5786e+00,  1.2736e+01],\n",
       "         [ 1.2568e+00,  2.4979e+00,  3.6802e+00,  5.0854e+00,  7.3657e+00,\n",
       "           9.5004e+00,  1.2505e+01],\n",
       "         [ 7.8862e-01,  2.0659e+00,  3.1589e+00,  4.5441e+00,  6.7290e+00,\n",
       "           9.2035e+00,  1.2602e+01],\n",
       "         [ 1.2251e+00,  2.2700e+00,  3.5746e+00,  5.1433e+00,  7.1510e+00,\n",
       "           9.4411e+00,  1.2348e+01],\n",
       "         [ 1.4613e-01,  2.7388e+00,  3.4011e+00,  5.0371e+00,  6.5816e+00,\n",
       "           9.5135e+00,  1.3020e+01]],\n",
       "\n",
       "        [[ 4.3336e-01,  1.3303e+00,  2.0746e+00,  3.1447e+00,  4.7008e+00,\n",
       "           6.5605e+00,  9.0037e+00],\n",
       "         [ 4.9965e-01,  1.1907e+00,  2.0255e+00,  3.1263e+00,  4.5407e+00,\n",
       "           6.2028e+00,  8.6330e+00],\n",
       "         [ 6.1293e-01,  1.3692e+00,  2.3280e+00,  3.3690e+00,  5.0937e+00,\n",
       "           6.5982e+00,  8.8363e+00],\n",
       "         [ 7.0101e-01,  1.5818e+00,  2.4178e+00,  3.4148e+00,  5.0300e+00,\n",
       "           6.5427e+00,  8.6722e+00],\n",
       "         [ 3.6900e-01,  1.2753e+00,  2.0485e+00,  3.0313e+00,  4.5791e+00,\n",
       "           6.3326e+00,  8.7410e+00],\n",
       "         [ 6.7897e-01,  1.4196e+00,  2.3432e+00,  3.4554e+00,  4.8780e+00,\n",
       "           6.5004e+00,  8.5613e+00],\n",
       "         [-8.5824e-02,  1.7519e+00,  2.2204e+00,  3.3806e+00,  4.4747e+00,\n",
       "           6.5521e+00,  9.0369e+00]],\n",
       "\n",
       "        [[ 3.2127e-01,  1.0390e+00,  1.6265e+00,  2.4809e+00,  3.7200e+00,\n",
       "           5.2014e+00,  7.1490e+00],\n",
       "         [ 3.7418e-01,  9.2592e-01,  1.5888e+00,  2.4661e+00,  3.5924e+00,\n",
       "           4.9164e+00,  6.8522e+00],\n",
       "         [ 4.6519e-01,  1.0674e+00,  1.8301e+00,  2.6594e+00,  4.0326e+00,\n",
       "           5.2307e+00,  7.0132e+00],\n",
       "         [ 5.3552e-01,  1.2363e+00,  1.9018e+00,  2.6958e+00,  3.9820e+00,\n",
       "           5.1864e+00,  6.8824e+00],\n",
       "         [ 2.7094e-01,  9.9240e-01,  1.6079e+00,  2.3909e+00,  3.6231e+00,\n",
       "           5.0194e+00,  6.9370e+00],\n",
       "         [ 5.1771e-01,  1.1074e+00,  1.8426e+00,  2.7284e+00,  3.8611e+00,\n",
       "           5.1530e+00,  6.7941e+00],\n",
       "         [-9.1082e-02,  1.3718e+00,  1.7448e+00,  2.6688e+00,  3.5399e+00,\n",
       "           5.1940e+00,  7.1726e+00]],\n",
       "\n",
       "        [[ 1.0947e+01,  1.7317e+01,  2.2860e+01,  3.0660e+01,  4.2138e+01,\n",
       "           5.5684e+01,  7.3565e+01],\n",
       "         [ 1.1427e+01,  1.6370e+01,  2.2518e+01,  3.0566e+01,  4.0948e+01,\n",
       "           5.3075e+01,  7.0848e+01],\n",
       "         [ 1.2176e+01,  1.7692e+01,  2.4729e+01,  3.2350e+01,  4.5001e+01,\n",
       "           5.6021e+01,  7.2396e+01],\n",
       "         [ 1.2803e+01,  1.9255e+01,  2.5392e+01,  3.2688e+01,  4.4525e+01,\n",
       "           5.5618e+01,  7.1195e+01],\n",
       "         [ 1.0376e+01,  1.7013e+01,  2.2685e+01,  2.9880e+01,  4.1217e+01,\n",
       "           5.4073e+01,  7.1696e+01],\n",
       "         [ 1.2637e+01,  1.8072e+01,  2.4843e+01,  3.2989e+01,  4.3408e+01,\n",
       "           5.5306e+01,  7.0387e+01],\n",
       "         [ 7.0331e+00,  2.0505e+01,  2.3942e+01,  3.2438e+01,  4.0451e+01,\n",
       "           5.5685e+01,  7.3873e+01]],\n",
       "\n",
       "        [[ 7.1874e-01,  2.6038e+00,  4.2350e+00,  6.5271e+00,  9.8897e+00,\n",
       "           1.3881e+01,  1.9136e+01],\n",
       "         [ 8.5974e-01,  2.3201e+00,  4.1294e+00,  6.4948e+00,  9.5431e+00,\n",
       "           1.3114e+01,  1.8340e+01],\n",
       "         [ 1.0878e+00,  2.7083e+00,  4.7784e+00,  7.0180e+00,  1.0735e+01,\n",
       "           1.3974e+01,  1.8790e+01],\n",
       "         [ 1.2742e+00,  3.1675e+00,  4.9721e+00,  7.1165e+00,  1.0597e+01,\n",
       "           1.3855e+01,  1.8437e+01],\n",
       "         [ 5.6037e-01,  2.5085e+00,  4.1772e+00,  6.2908e+00,  9.6244e+00,\n",
       "           1.3401e+01,  1.8584e+01],\n",
       "         [ 1.2257e+00,  2.8198e+00,  4.8111e+00,  7.2045e+00,  1.0269e+01,\n",
       "           1.3763e+01,  1.8199e+01],\n",
       "         [-4.2055e-01,  3.5350e+00,  4.5465e+00,  7.0426e+00,  9.3996e+00,\n",
       "           1.3874e+01,  1.9223e+01]],\n",
       "\n",
       "        [[-1.3061e+00, -8.0895e-01, -3.7870e-01,  2.2611e-01,  1.1100e+00,\n",
       "           2.1620e+00,  3.5446e+00],\n",
       "         [-1.2685e+00, -8.8341e-01, -4.0666e-01,  2.1695e-01,  1.0192e+00,\n",
       "           1.9596e+00,  3.3358e+00],\n",
       "         [-1.2076e+00, -7.8083e-01, -2.3572e-01,  3.5455e-01,  1.3329e+00,\n",
       "           2.1857e+00,  3.4540e+00],\n",
       "         [-1.1583e+00, -6.5975e-01, -1.8471e-01,  3.8050e-01,  1.2966e+00,\n",
       "           2.1542e+00,  3.3612e+00],\n",
       "         [-1.3461e+00, -8.3323e-01, -3.9416e-01,  1.6312e-01,  1.0407e+00,\n",
       "           2.0345e+00,  3.3999e+00],\n",
       "         [-1.1708e+00, -7.5125e-01, -2.2716e-01,  4.0352e-01,  1.2101e+00,\n",
       "           2.1300e+00,  3.2984e+00],\n",
       "         [-1.6042e+00, -5.6278e-01, -2.9686e-01,  3.6111e-01,  9.8139e-01,\n",
       "           2.1591e+00,  3.5679e+00]],\n",
       "\n",
       "        [[-5.6785e+00, -2.9327e+00, -5.5764e-01,  2.7832e+00,  7.6733e+00,\n",
       "           1.3483e+01,  2.1130e+01],\n",
       "         [-5.4725e+00, -3.3453e+00, -7.1274e-01,  2.7352e+00,  7.1691e+00,\n",
       "           1.2366e+01,  1.9972e+01],\n",
       "         [-5.1399e+00, -2.7801e+00,  2.3184e-01,  3.4964e+00,  8.9037e+00,\n",
       "           1.3618e+01,  2.0627e+01],\n",
       "         [-4.8685e+00, -2.1114e+00,  5.1427e-01,  3.6401e+00,  8.7025e+00,\n",
       "           1.3445e+01,  2.0113e+01],\n",
       "         [-5.9079e+00, -3.0709e+00, -6.4422e-01,  2.4379e+00,  7.2875e+00,\n",
       "           1.2784e+01,  2.0329e+01],\n",
       "         [-4.9386e+00, -2.6172e+00,  2.7929e-01,  3.7671e+00,  8.2244e+00,\n",
       "           1.3311e+01,  1.9767e+01],\n",
       "         [-7.3348e+00, -1.5763e+00, -1.0629e-01,  3.5322e+00,  6.9598e+00,\n",
       "           1.3472e+01,  2.1258e+01]],\n",
       "\n",
       "        [[-1.1673e-01,  8.3842e-01,  1.6300e+00,  2.7691e+00,  4.4242e+00,\n",
       "           6.4026e+00,  9.0023e+00],\n",
       "         [-4.5730e-02,  6.8947e-01,  1.5775e+00,  2.7493e+00,  4.2540e+00,\n",
       "           6.0221e+00,  8.6079e+00],\n",
       "         [ 7.4970e-02,  8.7920e-01,  1.8992e+00,  3.0072e+00,  4.8421e+00,\n",
       "           6.4427e+00,  8.8243e+00],\n",
       "         [ 1.6877e-01,  1.1054e+00,  1.9949e+00,  3.0558e+00,  4.7745e+00,\n",
       "           6.3836e+00,  8.6497e+00],\n",
       "         [-1.8452e-01,  7.7920e-01,  1.6018e+00,  2.6480e+00,  4.2948e+00,\n",
       "           6.1600e+00,  8.7229e+00],\n",
       "         [ 1.4523e-01,  9.3284e-01,  1.9155e+00,  3.0990e+00,  4.6127e+00,\n",
       "           6.3386e+00,  8.5318e+00],\n",
       "         [-6.6834e-01,  1.2864e+00,  1.7847e+00,  3.0195e+00,  4.1837e+00,\n",
       "           6.3935e+00,  9.0377e+00]]])"
      ]
     },
     "execution_count": 143,
     "metadata": {},
     "output_type": "execute_result"
    }
   ],
   "source": [
    "pred.output"
   ]
  },
  {
   "cell_type": "code",
   "execution_count": 69,
   "metadata": {},
   "outputs": [
    {
     "data": {
      "text/plain": [
       "tensor([[ 4.8460,  4.9378,  4.9001,  4.9226,  5.0379,  4.9550,  5.0814],\n",
       "        [ 3.2261,  3.2924,  3.2687,  3.2864,  3.3696,  3.3131,  3.4013],\n",
       "        [ 2.5472,  2.5999,  2.5807,  2.5947,  2.6611,  2.6157,  2.6863],\n",
       "        [31.4589, 31.9186, 31.7081, 31.8206, 32.4302, 31.9886, 32.6587],\n",
       "        [ 6.7553,  6.8884,  6.8291,  6.8603,  7.0379,  6.9097,  7.1014],\n",
       "        [ 0.2779,  0.3130,  0.2982,  0.3066,  0.3537,  0.3205,  0.3705],\n",
       "        [ 3.0837,  3.2785,  3.1957,  3.2428,  3.5020,  3.3174,  3.5979],\n",
       "        [ 2.8580,  2.9286,  2.9037,  2.9225,  3.0106,  2.9502,  3.0450]])"
      ]
     },
     "execution_count": 69,
     "metadata": {},
     "output_type": "execute_result"
    }
   ],
   "source": [
    "tft.predict(val_dataloader)"
   ]
  },
  {
   "cell_type": "code",
   "execution_count": 56,
   "metadata": {},
   "outputs": [],
   "source": [
    "quant_predictions = tft.predict(val_dataloader, mode=\"quantiles\")\n",
    "sorted_wrong = 0\n",
    "for prediction in quant_predictions:\n",
    "    for timestep in prediction:\n",
    "        if not torch.all(timestep[:-1] <= timestep[1:]):\n",
    "            print(timestep)\n",
    "#             sorted_wrong += 1\n",
    "# sorted_wrong"
   ]
  },
  {
   "cell_type": "code",
   "execution_count": 70,
   "metadata": {},
   "outputs": [],
   "source": [
    "# load the model saved by tensorboard logger\n",
    "new_model = tft.load_from_checkpoint(checkpoint_path=\"/home/fm-pc-lt-281/projects/Pharmaceutical Forecasting/lightning_logs_1/lightning_logs/version_10/checkpoints/epoch=15-step=512.ckpt\")"
   ]
  },
  {
   "cell_type": "code",
   "execution_count": 62,
   "metadata": {},
   "outputs": [
    {
     "data": {
      "text/plain": [
       "tensor([[ 5.2717,  5.2478,  5.2584,  5.4610,  5.1989,  5.2042,  4.9883],\n",
       "        [ 3.5428,  3.5264,  3.5347,  3.6785,  3.4933,  3.4972,  3.3445],\n",
       "        [ 2.7982,  2.7850,  2.7916,  2.9061,  2.7587,  2.7618,  2.6402],\n",
       "        [33.6558, 33.5293, 33.5828, 34.6338, 33.2733, 33.3000, 32.1795],\n",
       "        [ 7.4007,  7.3642,  7.3803,  7.6894,  7.2896,  7.2976,  6.9681],\n",
       "        [ 0.4554,  0.4457,  0.4499,  0.5313,  0.4260,  0.4281,  0.3413],\n",
       "        [ 4.0504,  3.9969,  4.0203,  4.4702,  3.8882,  3.8999,  3.4202],\n",
       "        [ 3.1921,  3.1746,  3.1834,  3.3364,  3.1394,  3.1436,  2.9811]])"
      ]
     },
     "execution_count": 62,
     "metadata": {},
     "output_type": "execute_result"
    }
   ],
   "source": [
    "new_model.predict(val_dataloader)"
   ]
  },
  {
   "cell_type": "code",
   "execution_count": 71,
   "metadata": {},
   "outputs": [
    {
     "name": "stdout",
     "output_type": "stream",
     "text": [
      "Testing DataLoader 0:   0%|          | 0/1 [00:00<?, ?it/s]"
     ]
    },
    {
     "name": "stdout",
     "output_type": "stream",
     "text": [
      "Testing DataLoader 0: 100%|██████████| 1/1 [00:00<00:00,  1.33it/s]\n"
     ]
    },
    {
     "data": {
      "text/html": [
       "<pre style=\"white-space:pre;overflow-x:auto;line-height:normal;font-family:Menlo,'DejaVu Sans Mono',consolas,'Courier New',monospace\">┏━━━━━━━━━━━━━━━━━━━━━━━━━━━┳━━━━━━━━━━━━━━━━━━━━━━━━━━━┓\n",
       "┃<span style=\"font-weight: bold\">        Test metric        </span>┃<span style=\"font-weight: bold\">       DataLoader 0        </span>┃\n",
       "┡━━━━━━━━━━━━━━━━━━━━━━━━━━━╇━━━━━━━━━━━━━━━━━━━━━━━━━━━┩\n",
       "│<span style=\"color: #008080; text-decoration-color: #008080\">         test_MAE          </span>│<span style=\"color: #800080; text-decoration-color: #800080\">    2.9325051307678223     </span>│\n",
       "│<span style=\"color: #008080; text-decoration-color: #008080\">         test_MAPE         </span>│<span style=\"color: #800080; text-decoration-color: #800080\">        24611946.0         </span>│\n",
       "│<span style=\"color: #008080; text-decoration-color: #008080\">         test_RMSE         </span>│<span style=\"color: #800080; text-decoration-color: #800080\">     4.619581699371338     </span>│\n",
       "│<span style=\"color: #008080; text-decoration-color: #008080\">        test_SMAPE         </span>│<span style=\"color: #800080; text-decoration-color: #800080\">    0.7233200669288635     </span>│\n",
       "│<span style=\"color: #008080; text-decoration-color: #008080\">         test_loss         </span>│<span style=\"color: #800080; text-decoration-color: #800080\">    1.6069999933242798     </span>│\n",
       "└───────────────────────────┴───────────────────────────┘\n",
       "</pre>\n"
      ],
      "text/plain": [
       "┏━━━━━━━━━━━━━━━━━━━━━━━━━━━┳━━━━━━━━━━━━━━━━━━━━━━━━━━━┓\n",
       "┃\u001b[1m \u001b[0m\u001b[1m       Test metric       \u001b[0m\u001b[1m \u001b[0m┃\u001b[1m \u001b[0m\u001b[1m      DataLoader 0       \u001b[0m\u001b[1m \u001b[0m┃\n",
       "┡━━━━━━━━━━━━━━━━━━━━━━━━━━━╇━━━━━━━━━━━━━━━━━━━━━━━━━━━┩\n",
       "│\u001b[36m \u001b[0m\u001b[36m        test_MAE         \u001b[0m\u001b[36m \u001b[0m│\u001b[35m \u001b[0m\u001b[35m   2.9325051307678223    \u001b[0m\u001b[35m \u001b[0m│\n",
       "│\u001b[36m \u001b[0m\u001b[36m        test_MAPE        \u001b[0m\u001b[36m \u001b[0m│\u001b[35m \u001b[0m\u001b[35m       24611946.0        \u001b[0m\u001b[35m \u001b[0m│\n",
       "│\u001b[36m \u001b[0m\u001b[36m        test_RMSE        \u001b[0m\u001b[36m \u001b[0m│\u001b[35m \u001b[0m\u001b[35m    4.619581699371338    \u001b[0m\u001b[35m \u001b[0m│\n",
       "│\u001b[36m \u001b[0m\u001b[36m       test_SMAPE        \u001b[0m\u001b[36m \u001b[0m│\u001b[35m \u001b[0m\u001b[35m   0.7233200669288635    \u001b[0m\u001b[35m \u001b[0m│\n",
       "│\u001b[36m \u001b[0m\u001b[36m        test_loss        \u001b[0m\u001b[36m \u001b[0m│\u001b[35m \u001b[0m\u001b[35m   1.6069999933242798    \u001b[0m\u001b[35m \u001b[0m│\n",
       "└───────────────────────────┴───────────────────────────┘\n"
      ]
     },
     "metadata": {},
     "output_type": "display_data"
    },
    {
     "data": {
      "text/plain": [
       "[{'test_loss': 1.6069999933242798,\n",
       "  'test_SMAPE': 0.7233200669288635,\n",
       "  'test_MAE': 2.9325051307678223,\n",
       "  'test_RMSE': 4.619581699371338,\n",
       "  'test_MAPE': 24611946.0}]"
      ]
     },
     "execution_count": 71,
     "metadata": {},
     "output_type": "execute_result"
    }
   ],
   "source": [
    "trainer.test(new_model, dataloaders=val_dataloader)"
   ]
  },
  {
   "cell_type": "code",
   "execution_count": null,
   "metadata": {},
   "outputs": [
    {
     "name": "stderr",
     "output_type": "stream",
     "text": [
      "Restoring states from the checkpoint path at lightning_logs_1/lightning_logs/version_10/checkpoints/epoch=15-step=512.ckpt\n",
      "Loaded model weights from the checkpoint at lightning_logs_1/lightning_logs/version_10/checkpoints/epoch=15-step=512.ckpt\n"
     ]
    },
    {
     "name": "stdout",
     "output_type": "stream",
     "text": [
      "Testing DataLoader 0: 100%|██████████| 1/1 [00:01<00:00,  1.27s/it]\n"
     ]
    },
    {
     "data": {
      "text/html": [
       "<pre style=\"white-space:pre;overflow-x:auto;line-height:normal;font-family:Menlo,'DejaVu Sans Mono',consolas,'Courier New',monospace\">┏━━━━━━━━━━━━━━━━━━━━━━━━━━━┳━━━━━━━━━━━━━━━━━━━━━━━━━━━┓\n",
       "┃<span style=\"font-weight: bold\">        Test metric        </span>┃<span style=\"font-weight: bold\">       DataLoader 0        </span>┃\n",
       "┡━━━━━━━━━━━━━━━━━━━━━━━━━━━╇━━━━━━━━━━━━━━━━━━━━━━━━━━━┩\n",
       "│<span style=\"color: #008080; text-decoration-color: #008080\">         test_MAE          </span>│<span style=\"color: #800080; text-decoration-color: #800080\">    2.9325051307678223     </span>│\n",
       "│<span style=\"color: #008080; text-decoration-color: #008080\">         test_MAPE         </span>│<span style=\"color: #800080; text-decoration-color: #800080\">        24611946.0         </span>│\n",
       "│<span style=\"color: #008080; text-decoration-color: #008080\">         test_RMSE         </span>│<span style=\"color: #800080; text-decoration-color: #800080\">     4.619581699371338     </span>│\n",
       "│<span style=\"color: #008080; text-decoration-color: #008080\">        test_SMAPE         </span>│<span style=\"color: #800080; text-decoration-color: #800080\">    0.7233200669288635     </span>│\n",
       "│<span style=\"color: #008080; text-decoration-color: #008080\">         test_loss         </span>│<span style=\"color: #800080; text-decoration-color: #800080\">    1.6069999933242798     </span>│\n",
       "└───────────────────────────┴───────────────────────────┘\n",
       "</pre>\n"
      ],
      "text/plain": [
       "┏━━━━━━━━━━━━━━━━━━━━━━━━━━━┳━━━━━━━━━━━━━━━━━━━━━━━━━━━┓\n",
       "┃\u001b[1m \u001b[0m\u001b[1m       Test metric       \u001b[0m\u001b[1m \u001b[0m┃\u001b[1m \u001b[0m\u001b[1m      DataLoader 0       \u001b[0m\u001b[1m \u001b[0m┃\n",
       "┡━━━━━━━━━━━━━━━━━━━━━━━━━━━╇━━━━━━━━━━━━━━━━━━━━━━━━━━━┩\n",
       "│\u001b[36m \u001b[0m\u001b[36m        test_MAE         \u001b[0m\u001b[36m \u001b[0m│\u001b[35m \u001b[0m\u001b[35m   2.9325051307678223    \u001b[0m\u001b[35m \u001b[0m│\n",
       "│\u001b[36m \u001b[0m\u001b[36m        test_MAPE        \u001b[0m\u001b[36m \u001b[0m│\u001b[35m \u001b[0m\u001b[35m       24611946.0        \u001b[0m\u001b[35m \u001b[0m│\n",
       "│\u001b[36m \u001b[0m\u001b[36m        test_RMSE        \u001b[0m\u001b[36m \u001b[0m│\u001b[35m \u001b[0m\u001b[35m    4.619581699371338    \u001b[0m\u001b[35m \u001b[0m│\n",
       "│\u001b[36m \u001b[0m\u001b[36m       test_SMAPE        \u001b[0m\u001b[36m \u001b[0m│\u001b[35m \u001b[0m\u001b[35m   0.7233200669288635    \u001b[0m\u001b[35m \u001b[0m│\n",
       "│\u001b[36m \u001b[0m\u001b[36m        test_loss        \u001b[0m\u001b[36m \u001b[0m│\u001b[35m \u001b[0m\u001b[35m   1.6069999933242798    \u001b[0m\u001b[35m \u001b[0m│\n",
       "└───────────────────────────┴───────────────────────────┘\n"
      ]
     },
     "metadata": {},
     "output_type": "display_data"
    },
    {
     "data": {
      "text/plain": [
       "[{'test_loss': 1.6069999933242798,\n",
       "  'test_SMAPE': 0.7233200669288635,\n",
       "  'test_MAE': 2.9325051307678223,\n",
       "  'test_RMSE': 4.619581699371338,\n",
       "  'test_MAPE': 24611946.0}]"
      ]
     },
     "execution_count": 50,
     "metadata": {},
     "output_type": "execute_result"
    }
   ],
   "source": [
    "trainer.test(dataloaders=val_dataloader)"
   ]
  },
  {
   "cell_type": "code",
   "execution_count": null,
   "metadata": {},
   "outputs": [],
   "source": [
    "data_iter = iter(val_dataloader)\n",
    "\n",
    "# Use 'next()' to get the next batch from the DataLoader\n",
    "batch_data = next(data_iter)\n",
    "\n",
    "# 'batch' will be a tuple containing input data and target data\n",
    "input_data, target_data = batch_data"
   ]
  },
  {
   "cell_type": "code",
   "execution_count": null,
   "metadata": {},
   "outputs": [
    {
     "data": {
      "text/plain": [
       "(tensor([[ 5.1800,  5.0000,  7.3400,  3.8400,  4.0000,  7.3400,  0.3300],\n",
       "         [ 3.2740,  3.0000,  5.6830,  5.0100, 11.6900,  4.5070,  1.7300],\n",
       "         [ 2.8000,  4.0000,  2.2500,  6.0000,  2.0000,  3.0000,  0.5000],\n",
       "         [30.2000, 40.4000, 22.4500, 25.4000, 34.6000, 50.8000, 44.3000],\n",
       "         [ 9.0000, 10.0000, 13.0000,  7.0000,  6.0000,  6.0000, 20.0000],\n",
       "         [ 1.0000,  0.0000,  0.0000,  0.0000,  0.0000,  0.0000,  2.0000],\n",
       "         [ 0.0000,  2.0000,  1.0000,  0.0000,  5.0000, 10.0000,  2.0000],\n",
       "         [ 1.1000,  2.0000,  1.0000,  0.3300,  4.2000,  1.0000,  0.0000]]),\n",
       " None)"
      ]
     },
     "execution_count": 76,
     "metadata": {},
     "output_type": "execute_result"
    }
   ],
   "source": [
    "target_data"
   ]
  },
  {
   "cell_type": "code",
   "execution_count": null,
   "metadata": {},
   "outputs": [
    {
     "data": {
      "text/plain": [
       "56"
      ]
     },
     "execution_count": 52,
     "metadata": {},
     "output_type": "execute_result"
    }
   ],
   "source": [
    "7 * 8"
   ]
  },
  {
   "cell_type": "code",
   "execution_count": null,
   "metadata": {},
   "outputs": [],
   "source": []
  }
 ],
 "metadata": {
  "kernelspec": {
   "display_name": "timeseries_env",
   "language": "python",
   "name": "python3"
  },
  "language_info": {
   "codemirror_mode": {
    "name": "ipython",
    "version": 3
   },
   "file_extension": ".py",
   "mimetype": "text/x-python",
   "name": "python",
   "nbconvert_exporter": "python",
   "pygments_lexer": "ipython3",
   "version": "3.10.12"
  },
  "orig_nbformat": 4
 },
 "nbformat": 4,
 "nbformat_minor": 2
}
